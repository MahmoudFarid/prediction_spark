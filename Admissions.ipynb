{
 "cells": [
  {
   "cell_type": "code",
   "execution_count": 78,
   "metadata": {
    "collapsed": true,
    "deletable": true,
    "editable": true
   },
   "outputs": [],
   "source": [
    "from pyspark import SparkContext, SQLContext\n",
    "from pyspark.sql.functions import col, udf, split, row_number\n",
    "from pyspark.sql.window import Window\n",
    "from pyspark.sql.types import DateType, StringType\n",
    "from pyspark.ml.regression import LinearRegression\n",
    "from pyspark.ml.linalg import Vectors, DenseVector"
   ]
  },
  {
   "cell_type": "code",
   "execution_count": 2,
   "metadata": {
    "collapsed": true,
    "deletable": true,
    "editable": true
   },
   "outputs": [],
   "source": [
    "from datetime import datetime"
   ]
  },
  {
   "cell_type": "code",
   "execution_count": 4,
   "metadata": {
    "collapsed": false,
    "deletable": true,
    "editable": true
   },
   "outputs": [],
   "source": [
    "sc = SparkContext()"
   ]
  },
  {
   "cell_type": "code",
   "execution_count": 5,
   "metadata": {
    "collapsed": false,
    "deletable": true,
    "editable": true
   },
   "outputs": [],
   "source": [
    "sqlc = SQLContext(sc)"
   ]
  },
  {
   "cell_type": "code",
   "execution_count": 58,
   "metadata": {
    "collapsed": true,
    "deletable": true,
    "editable": true
   },
   "outputs": [],
   "source": [
    "reading = sqlc.read.csv('Admissions 2015-16.csv', header=True)"
   ]
  },
  {
   "cell_type": "code",
   "execution_count": 59,
   "metadata": {
    "collapsed": false,
    "deletable": true,
    "editable": true
   },
   "outputs": [
    {
     "name": "stdout",
     "output_type": "stream",
     "text": [
      "+------------+--------+---------------+-----------+-------------+--------------+--------+------------+\n",
      "|Removal Date|Hospital|      Specialty|  Procedure|       Doctor|Patient Number|Priority|Waiting Days|\n",
      "+------------+--------+---------------+-----------+-------------+--------------+--------+------------+\n",
      "|  03/08/2015|     Mel|General Surgery|Lap Banding|Joseph Miller|     111365825|       C|        3396|\n",
      "|  06/07/2015|     Mel|General Surgery|Lap Banding|Joseph Miller|     109970143|       C|        3356|\n",
      "|  03/08/2015|     Mel|General Surgery|Lap Banding|Joseph Miller|     106770523|       C|        3244|\n",
      "|  19/08/2015|     Mel|General Surgery|Lap Banding|Joseph Miller|     111176864|       C|        3229|\n",
      "|  09/08/2015|     Mel|General Surgery|Lap Banding|Joseph Miller|     107085813|       C|        3190|\n",
      "+------------+--------+---------------+-----------+-------------+--------------+--------+------------+\n",
      "only showing top 5 rows\n",
      "\n"
     ]
    }
   ],
   "source": [
    "reading.show(5)"
   ]
  },
  {
   "cell_type": "code",
   "execution_count": 69,
   "metadata": {
    "collapsed": true,
    "deletable": true,
    "editable": true
   },
   "outputs": [],
   "source": [
    "change_to_month_func = udf(lambda record: datetime.strftime(datetime.strptime(record, '%d/%m/%Y'), '%m-%Y'), StringType())"
   ]
  },
  {
   "cell_type": "code",
   "execution_count": 70,
   "metadata": {
    "collapsed": true
   },
   "outputs": [],
   "source": [
    "reading_mod = reading.withColumn('Date', change_to_month_func(col('Removal Date'))).drop('Removal Date').withColumnRenamed('count(Removal Date)', 'patients_removed')"
   ]
  },
  {
   "cell_type": "code",
   "execution_count": 71,
   "metadata": {
    "collapsed": false,
    "deletable": true,
    "editable": true
   },
   "outputs": [],
   "source": [
    "grouped = reading_mod.groupby('Date').agg({'Date': 'count'})"
   ]
  },
  {
   "cell_type": "code",
   "execution_count": 72,
   "metadata": {
    "collapsed": false
   },
   "outputs": [
    {
     "name": "stdout",
     "output_type": "stream",
     "text": [
      "+-------+-----------+\n",
      "|   Date|count(Date)|\n",
      "+-------+-----------+\n",
      "|01-2016|       1094|\n",
      "|02-2016|       1443|\n",
      "|03-2016|       1364|\n",
      "|04-2016|       1808|\n",
      "|05-2016|       2200|\n",
      "|06-2015|         86|\n",
      "|06-2016|       2006|\n",
      "|07-2015|       1217|\n",
      "|08-2015|       1230|\n",
      "|09-2015|       1305|\n",
      "|10-2015|       1191|\n",
      "|11-2015|       1384|\n",
      "|12-2015|       1143|\n",
      "+-------+-----------+\n",
      "\n"
     ]
    }
   ],
   "source": [
    "grouped.orderBy('Date').show(100)"
   ]
  },
  {
   "cell_type": "code",
   "execution_count": 92,
   "metadata": {
    "collapsed": false
   },
   "outputs": [],
   "source": [
    "change_to_date_func = udf(lambda record: datetime.strptime(record, '%m-%Y'), DateType())"
   ]
  },
  {
   "cell_type": "code",
   "execution_count": 93,
   "metadata": {
    "collapsed": true
   },
   "outputs": [],
   "source": [
    "grouped_with_date = grouped.withColumn('Date', change_to_date_func(col('Date')))"
   ]
  },
  {
   "cell_type": "code",
   "execution_count": 94,
   "metadata": {
    "collapsed": false
   },
   "outputs": [],
   "source": [
    "window_row = Window().orderBy('Date')"
   ]
  },
  {
   "cell_type": "code",
   "execution_count": 95,
   "metadata": {
    "collapsed": false
   },
   "outputs": [],
   "source": [
    "grouped_new = grouped_with_date.withColumn('id', row_number().over(window_row))"
   ]
  },
  {
   "cell_type": "code",
   "execution_count": 97,
   "metadata": {
    "collapsed": false
   },
   "outputs": [
    {
     "name": "stdout",
     "output_type": "stream",
     "text": [
      "+----------+-----------+---+\n",
      "|      Date|count(Date)| id|\n",
      "+----------+-----------+---+\n",
      "|2015-06-01|         86|  1|\n",
      "|2015-07-01|       1217|  2|\n",
      "|2015-08-01|       1230|  3|\n",
      "|2015-09-01|       1305|  4|\n",
      "|2015-10-01|       1191|  5|\n",
      "|2015-11-01|       1384|  6|\n",
      "|2015-12-01|       1143|  7|\n",
      "|2016-01-01|       1094|  8|\n",
      "|2016-02-01|       1443|  9|\n",
      "|2016-03-01|       1364| 10|\n",
      "|2016-04-01|       1808| 11|\n",
      "|2016-05-01|       2200| 12|\n",
      "|2016-06-01|       2006| 13|\n",
      "+----------+-----------+---+\n",
      "\n"
     ]
    }
   ],
   "source": [
    "grouped_new.show(100)"
   ]
  },
  {
   "cell_type": "code",
   "execution_count": null,
   "metadata": {
    "collapsed": true
   },
   "outputs": [],
   "source": []
  },
  {
   "cell_type": "code",
   "execution_count": null,
   "metadata": {
    "collapsed": true
   },
   "outputs": [],
   "source": []
  },
  {
   "cell_type": "code",
   "execution_count": null,
   "metadata": {
    "collapsed": true
   },
   "outputs": [],
   "source": []
  }
 ],
 "metadata": {
  "kernelspec": {
   "display_name": "Python 2",
   "language": "python",
   "name": "python2"
  },
  "language_info": {
   "codemirror_mode": {
    "name": "ipython",
    "version": 2
   },
   "file_extension": ".py",
   "mimetype": "text/x-python",
   "name": "python",
   "nbconvert_exporter": "python",
   "pygments_lexer": "ipython2",
   "version": "2.7.12"
  }
 },
 "nbformat": 4,
 "nbformat_minor": 2
}
