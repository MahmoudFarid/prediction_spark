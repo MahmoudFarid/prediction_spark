{
 "cells": [
  {
   "cell_type": "code",
   "execution_count": 1,
   "metadata": {
    "collapsed": false,
    "deletable": true,
    "editable": true
   },
   "outputs": [],
   "source": [
    "from pyspark import SparkContext\n",
    "from pyspark.sql import SparkSession\n",
    "from pyspark.sql.functions import col, udf, split, row_number\n",
    "from pyspark.sql.window import Window\n",
    "from pyspark.sql.types import DateType, StringType, IntegerType\n",
    "from pyspark.ml.regression import LinearRegression, DecisionTreeRegressor, IsotonicRegression, RandomForestRegressor\n",
    "from pyspark.ml.linalg import Vectors, DenseVector, VectorUDT\n",
    "from pyspark.ml.feature import OneHotEncoder, StringIndexer, VectorAssembler\n",
    "from pyspark.ml.evaluation import RegressionEvaluator"
   ]
  },
  {
   "cell_type": "code",
   "execution_count": 2,
   "metadata": {
    "collapsed": true,
    "deletable": true,
    "editable": true
   },
   "outputs": [],
   "source": [
    "from datetime import datetime"
   ]
  },
  {
   "cell_type": "code",
   "execution_count": 3,
   "metadata": {
    "collapsed": false,
    "deletable": true,
    "editable": true
   },
   "outputs": [],
   "source": [
    "sc = SparkContext()"
   ]
  },
  {
   "cell_type": "code",
   "execution_count": 4,
   "metadata": {
    "collapsed": false,
    "deletable": true,
    "editable": true
   },
   "outputs": [],
   "source": [
    "sqlc = SparkSession(sc)"
   ]
  },
  {
   "cell_type": "code",
   "execution_count": 5,
   "metadata": {
    "collapsed": false,
    "deletable": true,
    "editable": true
   },
   "outputs": [],
   "source": [
    "reading = sqlc.read.csv('Admissions 2015-16.csv', header=True)"
   ]
  },
  {
   "cell_type": "code",
   "execution_count": 59,
   "metadata": {
    "collapsed": false,
    "deletable": true,
    "editable": true
   },
   "outputs": [
    {
     "name": "stdout",
     "output_type": "stream",
     "text": [
      "+------------+--------+---------------+-----------+-------------+--------------+--------+------------+\n",
      "|Removal Date|Hospital|      Specialty|  Procedure|       Doctor|Patient Number|Priority|Waiting Days|\n",
      "+------------+--------+---------------+-----------+-------------+--------------+--------+------------+\n",
      "|  03/08/2015|     Mel|General Surgery|Lap Banding|Joseph Miller|     111365825|       C|        3396|\n",
      "|  06/07/2015|     Mel|General Surgery|Lap Banding|Joseph Miller|     109970143|       C|        3356|\n",
      "|  03/08/2015|     Mel|General Surgery|Lap Banding|Joseph Miller|     106770523|       C|        3244|\n",
      "|  19/08/2015|     Mel|General Surgery|Lap Banding|Joseph Miller|     111176864|       C|        3229|\n",
      "|  09/08/2015|     Mel|General Surgery|Lap Banding|Joseph Miller|     107085813|       C|        3190|\n",
      "+------------+--------+---------------+-----------+-------------+--------------+--------+------------+\n",
      "only showing top 5 rows\n",
      "\n"
     ]
    }
   ],
   "source": [
    "reading.show(5)"
   ]
  },
  {
   "cell_type": "code",
   "execution_count": 6,
   "metadata": {
    "collapsed": true,
    "deletable": true,
    "editable": true
   },
   "outputs": [],
   "source": [
    "change_to_month_func = udf(lambda record: int(datetime.strftime(datetime.strptime(record, '%d/%m/%Y'), '%Y%m')), IntegerType())"
   ]
  },
  {
   "cell_type": "code",
   "execution_count": 7,
   "metadata": {
    "collapsed": true,
    "deletable": true,
    "editable": true
   },
   "outputs": [],
   "source": [
    "reading_mod = reading.withColumn('Date', change_to_month_func(col('Removal Date'))).drop('Removal Date'\n",
    "                                        ).withColumnRenamed('count(Removal Date)', 'patients_removed')"
   ]
  },
  {
   "cell_type": "code",
   "execution_count": 128,
   "metadata": {
    "collapsed": false,
    "deletable": true,
    "editable": true
   },
   "outputs": [],
   "source": [
    "grouped = reading_mod.groupby('Date').agg({'Date': 'count'})"
   ]
  },
  {
   "cell_type": "code",
   "execution_count": 131,
   "metadata": {
    "collapsed": false,
    "deletable": true,
    "editable": true
   },
   "outputs": [
    {
     "name": "stdout",
     "output_type": "stream",
     "text": [
      "+------+-----------+\n",
      "|  Date|count(Date)|\n",
      "+------+-----------+\n",
      "|201506|         86|\n",
      "|201507|       1217|\n",
      "|201508|       1230|\n",
      "|201509|       1305|\n",
      "|201510|       1191|\n",
      "|201511|       1384|\n",
      "|201512|       1143|\n",
      "|201601|       1094|\n",
      "|201602|       1443|\n",
      "|201603|       1364|\n",
      "|201604|       1808|\n",
      "|201605|       2200|\n",
      "|201606|       2006|\n",
      "+------+-----------+\n",
      "\n"
     ]
    }
   ],
   "source": [
    "grouped.orderBy('Date').show(100)"
   ]
  },
  {
   "cell_type": "code",
   "execution_count": 9,
   "metadata": {
    "collapsed": false,
    "deletable": true,
    "editable": true
   },
   "outputs": [],
   "source": [
    "change_to_date_func = udf(lambda record: datetime.strptime(str(record), '%Y%m'), DateType())"
   ]
  },
  {
   "cell_type": "code",
   "execution_count": 148,
   "metadata": {
    "collapsed": true,
    "deletable": true,
    "editable": true
   },
   "outputs": [],
   "source": [
    "grouped_with_date = grouped.withColumn('Date', change_to_date_func(col('Date')))"
   ]
  },
  {
   "cell_type": "code",
   "execution_count": 149,
   "metadata": {
    "collapsed": false,
    "deletable": true,
    "editable": true
   },
   "outputs": [],
   "source": [
    "window_row = Window().orderBy('Date')"
   ]
  },
  {
   "cell_type": "code",
   "execution_count": 151,
   "metadata": {
    "collapsed": false,
    "deletable": true,
    "editable": true
   },
   "outputs": [],
   "source": [
    "grouped_new = grouped_with_date.withColumn('id', row_number().over(window_row))"
   ]
  },
  {
   "cell_type": "code",
   "execution_count": 152,
   "metadata": {
    "collapsed": false,
    "deletable": true,
    "editable": true
   },
   "outputs": [
    {
     "name": "stdout",
     "output_type": "stream",
     "text": [
      "+----------+-----------+---+\n",
      "|      Date|count(Date)| id|\n",
      "+----------+-----------+---+\n",
      "|2015-06-01|         86|  1|\n",
      "|2015-07-01|       1217|  2|\n",
      "|2015-08-01|       1230|  3|\n",
      "|2015-09-01|       1305|  4|\n",
      "|2015-10-01|       1191|  5|\n",
      "|2015-11-01|       1384|  6|\n",
      "|2015-12-01|       1143|  7|\n",
      "|2016-01-01|       1094|  8|\n",
      "|2016-02-01|       1443|  9|\n",
      "|2016-03-01|       1364| 10|\n",
      "|2016-04-01|       1808| 11|\n",
      "|2016-05-01|       2200| 12|\n",
      "|2016-06-01|       2006| 13|\n",
      "+----------+-----------+---+\n",
      "\n"
     ]
    }
   ],
   "source": [
    "grouped_new.show(100)"
   ]
  },
  {
   "cell_type": "code",
   "execution_count": 10,
   "metadata": {
    "collapsed": false,
    "deletable": true,
    "editable": true
   },
   "outputs": [],
   "source": [
    "to_vector = udf(lambda record: Vectors.dense(record), VectorUDT())"
   ]
  },
  {
   "cell_type": "code",
   "execution_count": 154,
   "metadata": {
    "collapsed": false,
    "deletable": true,
    "editable": true
   },
   "outputs": [],
   "source": [
    "grouped_new_1 = grouped_new.withColumn('id', to_vector(col('id')))"
   ]
  },
  {
   "cell_type": "code",
   "execution_count": 243,
   "metadata": {
    "collapsed": true,
    "deletable": true,
    "editable": true
   },
   "outputs": [],
   "source": [
    "testing_df = grouped_new_1.where(col('Date') > datetime(2016,4,2))"
   ]
  },
  {
   "cell_type": "code",
   "execution_count": 244,
   "metadata": {
    "collapsed": false,
    "deletable": true,
    "editable": true
   },
   "outputs": [],
   "source": [
    "training_df = grouped_new_1.filter(col('Date') < datetime(2016,6,2))"
   ]
  },
  {
   "cell_type": "code",
   "execution_count": 230,
   "metadata": {
    "collapsed": false,
    "deletable": true,
    "editable": true
   },
   "outputs": [
    {
     "name": "stdout",
     "output_type": "stream",
     "text": [
      "+----------+-----------+------+\n",
      "|      Date|count(Date)|    id|\n",
      "+----------+-----------+------+\n",
      "|2015-06-01|         86| [1.0]|\n",
      "|2015-07-01|       1217| [2.0]|\n",
      "|2015-08-01|       1230| [3.0]|\n",
      "|2015-09-01|       1305| [4.0]|\n",
      "|2015-10-01|       1191| [5.0]|\n",
      "|2015-11-01|       1384| [6.0]|\n",
      "|2015-12-01|       1143| [7.0]|\n",
      "|2016-01-01|       1094| [8.0]|\n",
      "|2016-02-01|       1443| [9.0]|\n",
      "|2016-03-01|       1364|[10.0]|\n",
      "|2016-04-01|       1808|[11.0]|\n",
      "|2016-05-01|       2200|[12.0]|\n",
      "|2016-06-01|       2006|[13.0]|\n",
      "+----------+-----------+------+\n",
      "\n"
     ]
    }
   ],
   "source": [
    "grouped_new_1.show(100)"
   ]
  },
  {
   "cell_type": "code",
   "execution_count": 249,
   "metadata": {
    "collapsed": true,
    "deletable": true,
    "editable": true
   },
   "outputs": [],
   "source": [
    "lr = LinearRegression(maxIter=100, regParam=0.01, elasticNetParam = 1.0, labelCol=\"count(Date)\", featuresCol=\"id\")"
   ]
  },
  {
   "cell_type": "code",
   "execution_count": 250,
   "metadata": {
    "collapsed": false,
    "deletable": true,
    "editable": true
   },
   "outputs": [],
   "source": [
    "model_lr = lr.fit(training_df.select('count(Date)', 'id'))"
   ]
  },
  {
   "cell_type": "code",
   "execution_count": 251,
   "metadata": {
    "collapsed": false,
    "deletable": true,
    "editable": true
   },
   "outputs": [
    {
     "data": {
      "text/plain": [
       "DenseVector([105.1511])"
      ]
     },
     "execution_count": 251,
     "metadata": {},
     "output_type": "execute_result"
    }
   ],
   "source": [
    "model_lr.coefficients"
   ]
  },
  {
   "cell_type": "code",
   "execution_count": 252,
   "metadata": {
    "collapsed": false,
    "deletable": true,
    "editable": true
   },
   "outputs": [],
   "source": [
    "transformed_lr = model_lr.transform(testing_df)"
   ]
  },
  {
   "cell_type": "code",
   "execution_count": 253,
   "metadata": {
    "collapsed": false,
    "deletable": true,
    "editable": true
   },
   "outputs": [
    {
     "name": "stdout",
     "output_type": "stream",
     "text": [
      "+----------+-----------+------+------------------+\n",
      "|      Date|count(Date)|    id|        prediction|\n",
      "+----------+-----------+------+------------------+\n",
      "|2016-05-01|       2200|[12.0]|1869.6783989763017|\n",
      "|2016-06-01|       2006|[13.0]|1974.8294633869466|\n",
      "+----------+-----------+------+------------------+\n",
      "\n"
     ]
    }
   ],
   "source": [
    "transformed_lr.show(10)"
   ]
  },
  {
   "cell_type": "code",
   "execution_count": null,
   "metadata": {
    "collapsed": true,
    "deletable": true,
    "editable": true
   },
   "outputs": [],
   "source": []
  },
  {
   "cell_type": "code",
   "execution_count": 163,
   "metadata": {
    "collapsed": false,
    "deletable": true,
    "editable": true
   },
   "outputs": [],
   "source": [
    "dt = DecisionTreeRegressor(maxDepth=3, labelCol=\"count(Date)\", featuresCol=\"id\")"
   ]
  },
  {
   "cell_type": "code",
   "execution_count": 254,
   "metadata": {
    "collapsed": false,
    "deletable": true,
    "editable": true
   },
   "outputs": [],
   "source": [
    "model_dt = dt.fit(training_df.select('count(Date)', 'id'))"
   ]
  },
  {
   "cell_type": "code",
   "execution_count": 255,
   "metadata": {
    "collapsed": true,
    "deletable": true,
    "editable": true
   },
   "outputs": [],
   "source": [
    "transformed_dt = model_dt.transform(testing_df)"
   ]
  },
  {
   "cell_type": "code",
   "execution_count": 256,
   "metadata": {
    "collapsed": false,
    "deletable": true,
    "editable": true
   },
   "outputs": [
    {
     "name": "stdout",
     "output_type": "stream",
     "text": [
      "+----------+-----------+------+----------+\n",
      "|      Date|count(Date)|    id|prediction|\n",
      "+----------+-----------+------+----------+\n",
      "|2016-05-01|       2200|[12.0]|    2103.0|\n",
      "|2016-06-01|       2006|[13.0]|    2103.0|\n",
      "+----------+-----------+------+----------+\n",
      "\n"
     ]
    }
   ],
   "source": [
    "transformed_dt.show(10)"
   ]
  },
  {
   "cell_type": "code",
   "execution_count": null,
   "metadata": {
    "collapsed": true,
    "deletable": true,
    "editable": true
   },
   "outputs": [],
   "source": []
  },
  {
   "cell_type": "code",
   "execution_count": 186,
   "metadata": {
    "collapsed": true,
    "deletable": true,
    "editable": true
   },
   "outputs": [],
   "source": [
    "iso = IsotonicRegression(labelCol=\"count(Date)\", featuresCol=\"id\")"
   ]
  },
  {
   "cell_type": "code",
   "execution_count": 190,
   "metadata": {
    "collapsed": false,
    "deletable": true,
    "editable": true
   },
   "outputs": [],
   "source": [
    "model_iso = iso.fit(training_df.select(\"count(Date)\", \"id\"))"
   ]
  },
  {
   "cell_type": "code",
   "execution_count": 191,
   "metadata": {
    "collapsed": true,
    "deletable": true,
    "editable": true
   },
   "outputs": [],
   "source": [
    "transformed_iso = model_iso.transform(testing_df)"
   ]
  },
  {
   "cell_type": "code",
   "execution_count": 192,
   "metadata": {
    "collapsed": false,
    "deletable": true,
    "editable": true
   },
   "outputs": [
    {
     "name": "stdout",
     "output_type": "stream",
     "text": [
      "+----------+-----------+------+----------+\n",
      "|      Date|count(Date)|    id|prediction|\n",
      "+----------+-----------+------+----------+\n",
      "|2016-05-01|       2200|[12.0]|    1808.0|\n",
      "|2016-06-01|       2006|[13.0]|    1808.0|\n",
      "+----------+-----------+------+----------+\n",
      "\n"
     ]
    }
   ],
   "source": [
    "transformed_iso.show(10)"
   ]
  },
  {
   "cell_type": "code",
   "execution_count": null,
   "metadata": {
    "collapsed": true,
    "deletable": true,
    "editable": true
   },
   "outputs": [],
   "source": []
  },
  {
   "cell_type": "code",
   "execution_count": 217,
   "metadata": {
    "collapsed": false,
    "deletable": true,
    "editable": true
   },
   "outputs": [
    {
     "name": "stdout",
     "output_type": "stream",
     "text": [
      "+----------+-----------+------+----------+\n",
      "|      Date|count(Date)|    id|prediction|\n",
      "+----------+-----------+------+----------+\n",
      "|2016-05-01|       2200|[12.0]|    1808.0|\n",
      "|2016-06-01|       2006|[13.0]|    1808.0|\n",
      "+----------+-----------+------+----------+\n",
      "\n"
     ]
    }
   ],
   "source": [
    "rf = RandomForestRegressor(numTrees=3, maxDepth=2,labelCol=\"count(Date)\", featuresCol=\"id\")\n",
    "model_rf = rf.fit(training_df.select(\"count(Date)\", \"id\"))\n",
    "transformed_rd = model_rf.transform(testing_df)\n",
    "transformed_rd.show(10)"
   ]
  },
  {
   "cell_type": "code",
   "execution_count": null,
   "metadata": {
    "collapsed": true,
    "deletable": true,
    "editable": true
   },
   "outputs": [],
   "source": []
  },
  {
   "cell_type": "code",
   "execution_count": 167,
   "metadata": {
    "collapsed": true,
    "deletable": true,
    "editable": true
   },
   "outputs": [],
   "source": [
    "grouped_doctor = reading_mod.groupby('Date', 'Doctor').agg({'Doctor': 'count'})"
   ]
  },
  {
   "cell_type": "code",
   "execution_count": 168,
   "metadata": {
    "collapsed": false,
    "deletable": true,
    "editable": true
   },
   "outputs": [
    {
     "name": "stdout",
     "output_type": "stream",
     "text": [
      "+------+----------------+-------------+\n",
      "|  Date|          Doctor|count(Doctor)|\n",
      "+------+----------------+-------------+\n",
      "|201606|  Nathan Russell|           19|\n",
      "|201604|  Carol Buckland|           34|\n",
      "|201604|Connor Churchill|           11|\n",
      "|201511|       Owen Gill|            7|\n",
      "|201606|   Neil Rampling|           10|\n",
      "|201509|  Jason Paterson|            6|\n",
      "|201605|   Wendy Ellison|           32|\n",
      "|201606|    Alan Coleman|            4|\n",
      "|201602|  Brandon Fraser|            1|\n",
      "|201605|   Sophie Miller|            2|\n",
      "+------+----------------+-------------+\n",
      "only showing top 10 rows\n",
      "\n"
     ]
    }
   ],
   "source": [
    "grouped_doctor.show(10)"
   ]
  },
  {
   "cell_type": "code",
   "execution_count": 169,
   "metadata": {
    "collapsed": false,
    "deletable": true,
    "editable": true
   },
   "outputs": [],
   "source": [
    "grouped_doctor_with_date = grouped_doctor.withColumn('Date', change_to_date_func(col('Date')))"
   ]
  },
  {
   "cell_type": "code",
   "execution_count": 170,
   "metadata": {
    "collapsed": true,
    "deletable": true,
    "editable": true
   },
   "outputs": [],
   "source": [
    "window_row_doctor = Window().partitionBy('Doctor').orderBy('Date')"
   ]
  },
  {
   "cell_type": "code",
   "execution_count": 171,
   "metadata": {
    "collapsed": true,
    "deletable": true,
    "editable": true
   },
   "outputs": [],
   "source": [
    "grouped_doctor_with_date_new = grouped_doctor_with_date.withColumn('id', row_number().over(window_row_doctor))"
   ]
  },
  {
   "cell_type": "code",
   "execution_count": 172,
   "metadata": {
    "collapsed": false,
    "deletable": true,
    "editable": true
   },
   "outputs": [
    {
     "name": "stdout",
     "output_type": "stream",
     "text": [
      "+----------+-----------------+-------------+---+\n",
      "|      Date|           Doctor|count(Doctor)| id|\n",
      "+----------+-----------------+-------------+---+\n",
      "|2015-06-01|       Sam Slater|            1|  1|\n",
      "|2015-07-01|       Sam Slater|            1|  2|\n",
      "|2015-08-01|       Sam Slater|            1|  3|\n",
      "|2015-09-01|       Sam Slater|            7|  4|\n",
      "|2015-10-01|       Sam Slater|            2|  5|\n",
      "|2015-11-01|       Sam Slater|            5|  6|\n",
      "|2015-12-01|       Sam Slater|            2|  7|\n",
      "|2016-01-01|       Sam Slater|            1|  8|\n",
      "|2016-02-01|       Sam Slater|            2|  9|\n",
      "|2016-03-01|       Sam Slater|            1| 10|\n",
      "|2016-04-01|       Sam Slater|            3| 11|\n",
      "|2016-05-01|       Sam Slater|            4| 12|\n",
      "|2016-06-01|       Sam Slater|            4| 13|\n",
      "|2015-06-01|Alexander Skinner|            7|  1|\n",
      "|2015-07-01|Alexander Skinner|           22|  2|\n",
      "|2015-08-01|Alexander Skinner|           20|  3|\n",
      "|2015-09-01|Alexander Skinner|           11|  4|\n",
      "|2015-10-01|Alexander Skinner|            7|  5|\n",
      "|2015-11-01|Alexander Skinner|           22|  6|\n",
      "|2015-12-01|Alexander Skinner|           26|  7|\n",
      "|2016-01-01|Alexander Skinner|           20|  8|\n",
      "|2016-02-01|Alexander Skinner|            8|  9|\n",
      "|2016-03-01|Alexander Skinner|           42| 10|\n",
      "|2016-04-01|Alexander Skinner|           14| 11|\n",
      "|2016-05-01|Alexander Skinner|           38| 12|\n",
      "|2016-06-01|Alexander Skinner|           32| 13|\n",
      "|2015-07-01|   Sally Morrison|           26|  1|\n",
      "|2015-08-01|   Sally Morrison|           17|  2|\n",
      "|2015-09-01|   Sally Morrison|           23|  3|\n",
      "|2015-10-01|   Sally Morrison|           12|  4|\n",
      "+----------+-----------------+-------------+---+\n",
      "only showing top 30 rows\n",
      "\n"
     ]
    }
   ],
   "source": [
    "grouped_doctor_with_date_new.show(30)"
   ]
  },
  {
   "cell_type": "code",
   "execution_count": 173,
   "metadata": {
    "collapsed": true,
    "deletable": true,
    "editable": true
   },
   "outputs": [],
   "source": [
    "to_vectors = udf(lambda col_a, col_b: Vectors.sparse(col_a, col_b))"
   ]
  },
  {
   "cell_type": "code",
   "execution_count": 174,
   "metadata": {
    "collapsed": false,
    "deletable": true,
    "editable": true
   },
   "outputs": [],
   "source": [
    "strindexer = StringIndexer(inputCol=\"Doctor\", outputCol=\"Doctor_idx\")\n",
    "model_strindexer = strindexer.fit(grouped_doctor_with_date_new)\n",
    "grouped_doctor_with_date_new_indexed = model_strindexer.transform(grouped_doctor_with_date_new)"
   ]
  },
  {
   "cell_type": "code",
   "execution_count": 175,
   "metadata": {
    "collapsed": true,
    "deletable": true,
    "editable": true
   },
   "outputs": [],
   "source": [
    "#encoder = OneHotEncoder(inputCol=\"Doctor_idx\", outputCol=\"Doctor_coded\")\n",
    "#grouped_doctor_with_date_new_encoded = encoder.transform(grouped_doctor_with_date_new_indexed)"
   ]
  },
  {
   "cell_type": "code",
   "execution_count": 176,
   "metadata": {
    "collapsed": false,
    "deletable": true,
    "editable": true
   },
   "outputs": [
    {
     "name": "stdout",
     "output_type": "stream",
     "text": [
      "+----------+----------+-------------+---+----------+\n",
      "|      Date|    Doctor|count(Doctor)| id|Doctor_idx|\n",
      "+----------+----------+-------------+---+----------+\n",
      "|2015-06-01|Sam Slater|            1|  1|       9.0|\n",
      "|2015-07-01|Sam Slater|            1|  2|       9.0|\n",
      "+----------+----------+-------------+---+----------+\n",
      "only showing top 2 rows\n",
      "\n"
     ]
    }
   ],
   "source": [
    "grouped_doctor_with_date_new_indexed.show(2)"
   ]
  },
  {
   "cell_type": "code",
   "execution_count": 177,
   "metadata": {
    "collapsed": false,
    "deletable": true,
    "editable": true
   },
   "outputs": [],
   "source": [
    "assembler = VectorAssembler(inputCols=[\"id\", \"Doctor_idx\"], outputCol=\"features\")\n",
    "grouped_doctor_with_date_new_1 = assembler.transform(grouped_doctor_with_date_new_indexed)"
   ]
  },
  {
   "cell_type": "code",
   "execution_count": 178,
   "metadata": {
    "collapsed": false,
    "deletable": true,
    "editable": true
   },
   "outputs": [
    {
     "name": "stdout",
     "output_type": "stream",
     "text": [
      "+----------+----------+-------------+---+----------+----------+\n",
      "|      Date|    Doctor|count(Doctor)| id|Doctor_idx|  features|\n",
      "+----------+----------+-------------+---+----------+----------+\n",
      "|2015-06-01|Sam Slater|            1|  1|       9.0| [1.0,9.0]|\n",
      "|2015-07-01|Sam Slater|            1|  2|       9.0| [2.0,9.0]|\n",
      "|2015-08-01|Sam Slater|            1|  3|       9.0| [3.0,9.0]|\n",
      "|2015-09-01|Sam Slater|            7|  4|       9.0| [4.0,9.0]|\n",
      "|2015-10-01|Sam Slater|            2|  5|       9.0| [5.0,9.0]|\n",
      "|2015-11-01|Sam Slater|            5|  6|       9.0| [6.0,9.0]|\n",
      "|2015-12-01|Sam Slater|            2|  7|       9.0| [7.0,9.0]|\n",
      "|2016-01-01|Sam Slater|            1|  8|       9.0| [8.0,9.0]|\n",
      "|2016-02-01|Sam Slater|            2|  9|       9.0| [9.0,9.0]|\n",
      "|2016-03-01|Sam Slater|            1| 10|       9.0|[10.0,9.0]|\n",
      "+----------+----------+-------------+---+----------+----------+\n",
      "only showing top 10 rows\n",
      "\n"
     ]
    }
   ],
   "source": [
    "grouped_doctor_with_date_new_1.show(10)"
   ]
  },
  {
   "cell_type": "code",
   "execution_count": 257,
   "metadata": {
    "collapsed": true,
    "deletable": true,
    "editable": true
   },
   "outputs": [],
   "source": [
    "training_df = grouped_doctor_with_date_new_1"
   ]
  },
  {
   "cell_type": "code",
   "execution_count": 258,
   "metadata": {
    "collapsed": true,
    "deletable": true,
    "editable": true
   },
   "outputs": [],
   "source": [
    "testing_df = grouped_doctor_with_date_new_1.where(col('Date') > datetime(2016,4,2))"
   ]
  },
  {
   "cell_type": "code",
   "execution_count": 267,
   "metadata": {
    "collapsed": false,
    "deletable": true,
    "editable": true
   },
   "outputs": [],
   "source": [
    "lrd = LinearRegression(maxIter=1000, regParam=0.01, elasticNetParam=0.0, labelCol=\"count(Doctor)\", featuresCol=\"features\")\n",
    "model_lrd = lrd.fit(training_df.select(\"features\", \"count(Doctor)\"))\n",
    "transformed_lrd = model_lrd.transform(testing_df)"
   ]
  },
  {
   "cell_type": "code",
   "execution_count": 266,
   "metadata": {
    "collapsed": true,
    "deletable": true,
    "editable": true
   },
   "outputs": [
    {
     "name": "stdout",
     "output_type": "stream",
     "text": [
      "+----------+------------------+-------------+---+----------+-----------+-------------------+\n",
      "|      Date|            Doctor|count(Doctor)| id|Doctor_idx|   features|         prediction|\n",
      "+----------+------------------+-------------+---+----------+-----------+-------------------+\n",
      "|2016-05-01|        Sam Slater|            4| 12|       9.0| [12.0,9.0]| 22.265878226736465|\n",
      "|2016-06-01|        Sam Slater|            4| 13|       9.0| [13.0,9.0]| 23.016920983918006|\n",
      "|2016-05-01| Alexander Skinner|           38| 12|      11.0|[12.0,11.0]|  22.06068399092705|\n",
      "|2016-06-01| Alexander Skinner|           32| 13|      11.0|[13.0,11.0]| 22.811726748108587|\n",
      "|2016-05-01|    Sally Morrison|           13| 11|      65.0|[11.0,65.0]|  15.76939686689127|\n",
      "|2016-06-01|    Sally Morrison|           22| 12|      65.0|[12.0,65.0]| 16.520439624072807|\n",
      "|2016-06-01|    Brandon Fraser|            1| 11|      85.0|[11.0,85.0]| 13.717454508797108|\n",
      "|2016-05-01|       Joseph Ince|            1|  1|     177.0|[1.0,177.0]|-3.2319079102514223|\n",
      "|2016-05-01|        Wanda Hill|           25| 10|      81.0|[10.0,81.0]| 13.376800223234401|\n",
      "|2016-06-01|        Wanda Hill|           13| 11|      81.0|[11.0,81.0]|  14.12784298041594|\n",
      "|2016-05-01|    Bella Hamilton|           16| 11|      70.0|[11.0,70.0]| 15.256411277367729|\n",
      "|2016-06-01|    Bella Hamilton|            9| 12|      70.0|[12.0,70.0]| 16.007454034549266|\n",
      "|2016-05-01|     Kylie Simpson|            7| 10|      83.0|[10.0,83.0]| 13.171605987424986|\n",
      "|2016-06-01|     Kylie Simpson|            1| 11|      83.0|[11.0,83.0]| 13.922648744606523|\n",
      "|2016-05-01|     Joseph Hodges|            2|  3|     122.0|[3.0,122.0]|  3.913019088870602|\n",
      "|2016-06-01|     Joseph Hodges|            6|  4|     122.0|[4.0,122.0]|  4.664061846052141|\n",
      "|2016-05-01|   Joseph Morrison|            2| 11|      78.0|[11.0,78.0]| 14.435634334130064|\n",
      "|2016-06-01|   Joseph Morrison|            3| 12|      78.0|[12.0,78.0]| 15.186677091311601|\n",
      "|2016-06-01|      Amelia Nolan|            3|  7|     104.0|[7.0,104.0]|  8.763938239881501|\n",
      "|2016-05-01| Andrea Rutherford|           36| 11|      21.0|[11.0,21.0]|  20.28367005469843|\n",
      "|2016-06-01| Andrea Rutherford|           13| 12|      21.0|[12.0,21.0]| 21.034712811879967|\n",
      "|2016-05-01|   Nicholas Gibson|            1|  5|     119.0|[5.0,119.0]|  5.722895956947802|\n",
      "|2016-05-01|       Karen Avery|           23| 11|      52.0|[11.0,52.0]| 17.103159399652476|\n",
      "|2016-06-01|       Karen Avery|            7| 12|      52.0|[12.0,52.0]| 17.854202156834013|\n",
      "|2016-05-01|        Sally Knox|            4| 10|      86.0|[10.0,86.0]|  12.86381463371086|\n",
      "|2016-06-01|        Sally Knox|            8| 11|      86.0|[11.0,86.0]| 13.614857390892398|\n",
      "|2016-05-01|   Theresa Vaughan|            1|  3|     123.0|[3.0,123.0]|  3.810421970965894|\n",
      "|2016-06-01|   Theresa Vaughan|            1|  4|     123.0|[4.0,123.0]|  4.561464728147433|\n",
      "|2016-05-01|      Charles Bell|            5|  9|      90.0| [9.0,90.0]|  11.70238340491049|\n",
      "|2016-06-01|      Charles Bell|            2| 10|      90.0|[10.0,90.0]| 12.453426162092029|\n",
      "|2016-05-01|  Connor Churchill|            9| 11|      64.0|[11.0,64.0]| 15.871993984795978|\n",
      "|2016-06-01|  Connor Churchill|           11| 12|      64.0|[12.0,64.0]| 16.623036741977515|\n",
      "|2016-05-01|    Sonia Marshall|            4| 11|      38.0|[11.0,38.0]|  18.53951905031839|\n",
      "|2016-06-01|    Sonia Marshall|            9| 12|      38.0|[12.0,38.0]| 19.290561807499927|\n",
      "|2016-05-01|        Lily Short|           16| 11|      69.0|[11.0,69.0]| 15.359008395272438|\n",
      "|2016-06-01|        Lily Short|           15| 12|      69.0|[12.0,69.0]| 16.110051152453977|\n",
      "|2016-05-01|       Gordon Reid|            2|  6|     106.0|[6.0,106.0]|  7.807701246890546|\n",
      "|2016-06-01|       Gordon Reid|            1|  7|     106.0|[7.0,106.0]|  8.558744004072084|\n",
      "|2016-05-01|     Leah Marshall|           13| 11|      26.0|[11.0,26.0]| 19.770684465174888|\n",
      "|2016-06-01|     Leah Marshall|            6| 12|      26.0|[12.0,26.0]| 20.521727222356425|\n",
      "|2016-05-01|     Lillian North|            2|  4|     116.0|[4.0,116.0]|   5.27964455348039|\n",
      "|2016-06-01|     Lillian North|            4|  5|     116.0|[5.0,116.0]|  6.030687310661927|\n",
      "|2016-05-01|     Wendy Ellison|           32| 12|       8.0| [12.0,8.0]| 22.368475344641173|\n",
      "|2016-06-01|     Wendy Ellison|           17| 13|       8.0| [13.0,8.0]| 23.119518101822713|\n",
      "|2016-05-01| Alexander Coleman|            4| 11|      63.0|[11.0,63.0]| 15.974591102700687|\n",
      "|2016-06-01| Alexander Coleman|            3| 12|      63.0|[12.0,63.0]| 16.725633859882223|\n",
      "|2016-05-01|       Boris Clark|            6|  4|     120.0|[4.0,120.0]|  4.869256081861558|\n",
      "|2016-06-01|       Boris Clark|            9|  5|     120.0|[5.0,120.0]|  5.620298839043095|\n",
      "|2016-06-01|     Carl Davidson|            1|  2|     147.0|[2.0,147.0]| 0.5970483840713605|\n",
      "|2016-05-01|   Jessica Jackson|           13| 11|      50.0|[11.0,50.0]|  17.30835363546189|\n",
      "|2016-06-01|   Jessica Jackson|           20| 12|      50.0|[12.0,50.0]|  18.05939639264343|\n",
      "|2016-05-01|     Lillian James|           65| 11|      40.0|[11.0,40.0]| 18.334324814508975|\n",
      "|2016-06-01|     Lillian James|           93| 12|      40.0|[12.0,40.0]|  19.08536757169051|\n",
      "|2016-05-01|      Rachel Brown|           17| 12|      16.0|[12.0,16.0]|  21.54769840140351|\n",
      "|2016-06-01|      Rachel Brown|            9| 13|      16.0|[13.0,16.0]| 22.298741158585045|\n",
      "|2016-05-01|      Frank Murray|            1|  2|     138.0|[2.0,138.0]| 1.5204224452137343|\n",
      "|2016-05-01|       Steven Bond|            1|  1|     142.0|[1.0,142.0]| 0.3589912164133633|\n",
      "|2016-06-01|       Steven Bond|            3|  2|     142.0|[2.0,142.0]|  1.110033973594902|\n",
      "|2016-05-01|         Sam Allan|           18| 11|      17.0|[11.0,17.0]| 20.694058526317264|\n",
      "|2016-06-01|         Sam Allan|           23| 12|      17.0|[12.0,17.0]|   21.4451012834988|\n",
      "|2016-05-01|   Bernadette Rees|           22| 11|      30.0|[11.0,30.0]| 19.360295993556058|\n",
      "|2016-06-01|   Bernadette Rees|            3| 12|      30.0|[12.0,30.0]| 20.111338750737595|\n",
      "|2016-05-01|        Ryan Alsop|            8| 11|      49.0|[11.0,49.0]| 17.410950753366603|\n",
      "|2016-06-01|        Ryan Alsop|           10| 12|      49.0|[12.0,49.0]|  18.16199351054814|\n",
      "|2016-05-01|   Victor Hardacre|            2|  8|      95.0| [8.0,95.0]| 10.438355058205413|\n",
      "|2016-06-01|   Victor Hardacre|            6|  9|      95.0| [9.0,95.0]|  11.18939781538695|\n",
      "|2016-05-01|   Benjamin Wright|           25| 11|      28.0|[11.0,28.0]| 19.565490229365473|\n",
      "|2016-06-01|   Benjamin Wright|           34| 12|      28.0|[12.0,28.0]|  20.31653298654701|\n",
      "|2016-05-01|        Mary Vance|            2|  7|     101.0|[7.0,101.0]|  9.071729593595625|\n",
      "|2016-06-01|        Mary Vance|            3|  8|     101.0|[8.0,101.0]|  9.822772350777164|\n",
      "|2016-05-01|    Carol Buckland|           10| 10|      82.0|[10.0,82.0]| 13.274203105329693|\n",
      "|2016-06-01|    Carol Buckland|           15| 11|      82.0|[11.0,82.0]| 14.025245862511232|\n",
      "|2016-05-01|     David Ellison|            2|  1|     153.0|[1.0,153.0]|-0.7695770805384274|\n",
      "|2016-05-01| Leonard Robertson|           14| 11|      60.0|[11.0,60.0]| 16.282382456414812|\n",
      "|2016-06-01| Leonard Robertson|            5| 12|      60.0|[12.0,60.0]|  17.03342521359635|\n",
      "|2016-05-01|   Trevor Lawrence|           65| 11|      58.0|[11.0,58.0]| 16.487576692224227|\n",
      "|2016-06-01|   Trevor Lawrence|           29| 12|      58.0|[12.0,58.0]| 17.238619449405764|\n",
      "|2016-05-01|     Zoe Underwood|           15|  4|     117.0|[4.0,117.0]|  5.177047435575682|\n",
      "|2016-06-01|     Zoe Underwood|           10|  5|     117.0|[5.0,117.0]|  5.928090192757219|\n",
      "|2016-05-01|       Alan Martin|           60| 11|      33.0|[11.0,33.0]|  19.05250463984193|\n",
      "|2016-06-01|       Alan Martin|           69| 12|      33.0|[12.0,33.0]|  19.80354739702347|\n",
      "|2016-05-01|   Andrew Johnston|            7| 11|      23.0|[11.0,23.0]| 20.078475818889014|\n",
      "|2016-06-01|   Andrew Johnston|           10| 12|      23.0|[12.0,23.0]|  20.82951857607055|\n",
      "|2016-05-01|   Sarah Mackenzie|            7| 11|      59.0|[11.0,59.0]|  16.38497957431952|\n",
      "|2016-06-01|   Sarah Mackenzie|            5| 12|      59.0|[12.0,59.0]| 17.136022331501056|\n",
      "|2016-05-01|     Faith Coleman|            2| 11|      35.0|[11.0,35.0]| 18.847310404032516|\n",
      "|2016-06-01|     Faith Coleman|            8| 12|      35.0|[12.0,35.0]| 19.598353161214053|\n",
      "|2016-05-01|    Anthony Bailey|           12|  8|      93.0| [8.0,93.0]| 10.643549294014829|\n",
      "|2016-06-01|    Anthony Bailey|            8|  9|      93.0| [9.0,93.0]| 11.394592051196366|\n",
      "|2016-05-01|     Mary Marshall|           10| 11|      39.0|[11.0,39.0]| 18.436921932413682|\n",
      "|2016-06-01|     Mary Marshall|           11| 12|      39.0|[12.0,39.0]|  19.18796468959522|\n",
      "|2016-05-01|   Alexander Clark|            4|  6|     115.0|[6.0,115.0]|  6.884327185748172|\n",
      "|2016-06-01|Sebastian Ferguson|            6|  1|     161.0|[1.0,161.0]|-1.5903540237760936|\n",
      "|2016-05-01|       Audrey Dyer|           13| 12|       7.0| [12.0,7.0]| 22.471072462545884|\n",
      "|2016-06-01|       Audrey Dyer|           16| 13|       7.0| [13.0,7.0]|  23.22211521972742|\n",
      "|2016-06-01|    Felicity Allan|           16|  1|     172.0|[1.0,172.0]|-2.7189223207278843|\n",
      "|2016-05-01|    Harry Springer|           32| 11|      44.0|[11.0,44.0]| 17.923936342890144|\n",
      "|2016-06-01|    Harry Springer|           28| 12|      44.0|[12.0,44.0]|  18.67497910007168|\n",
      "|2016-05-01|       Gordon King|           17| 11|      68.0|[11.0,68.0]| 15.461605513177146|\n",
      "|2016-06-01|       Gordon King|           43| 12|      68.0|[12.0,68.0]| 16.212648270358684|\n",
      "+----------+------------------+-------------+---+----------+-----------+-------------------+\n",
      "only showing top 100 rows\n",
      "\n"
     ]
    }
   ],
   "source": [
    "transformed_lrd.show(100)"
   ]
  },
  {
   "cell_type": "code",
   "execution_count": 274,
   "metadata": {
    "collapsed": false,
    "deletable": true,
    "editable": true
   },
   "outputs": [
    {
     "data": {
      "text/plain": [
       "10.278008729851091"
      ]
     },
     "execution_count": 274,
     "metadata": {},
     "output_type": "execute_result"
    }
   ],
   "source": [
    "regev = RegressionEvaluator(labelCol=\"count(Doctor)\")\n",
    "regev.evaluate(transformed_lrd.select(\"count(Doctor)\", \"prediction\"), {regev.metricName: \"mae\"})"
   ]
  },
  {
   "cell_type": "code",
   "execution_count": null,
   "metadata": {
    "collapsed": true,
    "deletable": true,
    "editable": true
   },
   "outputs": [],
   "source": []
  },
  {
   "cell_type": "code",
   "execution_count": 208,
   "metadata": {
    "collapsed": true,
    "deletable": true,
    "editable": true
   },
   "outputs": [],
   "source": [
    "isod = IsotonicRegression(labelCol=\"count(Doctor)\", featuresCol=\"features\")"
   ]
  },
  {
   "cell_type": "code",
   "execution_count": 209,
   "metadata": {
    "collapsed": true,
    "deletable": true,
    "editable": true
   },
   "outputs": [],
   "source": [
    "model_isod = isod.fit(training_df.select(\"features\", \"count(Doctor)\"))"
   ]
  },
  {
   "cell_type": "code",
   "execution_count": 210,
   "metadata": {
    "collapsed": true,
    "deletable": true,
    "editable": true
   },
   "outputs": [],
   "source": [
    "transformed_isod = model_isod.transform(testing_df)"
   ]
  },
  {
   "cell_type": "code",
   "execution_count": 211,
   "metadata": {
    "collapsed": true,
    "deletable": true,
    "editable": true
   },
   "outputs": [
    {
     "name": "stdout",
     "output_type": "stream",
     "text": [
      "+----------+------------------+-------------+---+----------+-----------+------------------+\n",
      "|      Date|            Doctor|count(Doctor)| id|Doctor_idx|   features|        prediction|\n",
      "+----------+------------------+-------------+---+----------+-----------+------------------+\n",
      "|2016-05-01|        Sam Slater|            4| 12|       9.0| [12.0,9.0]|              56.0|\n",
      "|2016-06-01|        Sam Slater|            4| 13|       9.0| [13.0,9.0]|              56.0|\n",
      "|2016-05-01| Alexander Skinner|           38| 12|      11.0|[12.0,11.0]|              56.0|\n",
      "|2016-06-01| Alexander Skinner|           32| 13|      11.0|[13.0,11.0]|              56.0|\n",
      "|2016-05-01|    Sally Morrison|           13| 11|      65.0|[11.0,65.0]|              37.0|\n",
      "|2016-06-01|    Sally Morrison|           22| 12|      65.0|[12.0,65.0]|              56.0|\n",
      "|2016-06-01|    Brandon Fraser|            1| 11|      85.0|[11.0,85.0]|              37.0|\n",
      "|2016-05-01|       Joseph Ince|            1|  1|     177.0|[1.0,177.0]|               6.0|\n",
      "|2016-05-01|        Wanda Hill|           25| 10|      81.0|[10.0,81.0]|              25.0|\n",
      "|2016-06-01|        Wanda Hill|           13| 11|      81.0|[11.0,81.0]|              37.0|\n",
      "|2016-05-01|    Bella Hamilton|           16| 11|      70.0|[11.0,70.0]|              37.0|\n",
      "|2016-06-01|    Bella Hamilton|            9| 12|      70.0|[12.0,70.0]|              56.0|\n",
      "|2016-05-01|     Kylie Simpson|            7| 10|      83.0|[10.0,83.0]|              25.0|\n",
      "|2016-06-01|     Kylie Simpson|            1| 11|      83.0|[11.0,83.0]|              37.0|\n",
      "|2016-05-01|     Joseph Hodges|            2|  3|     122.0|[3.0,122.0]|10.886554621848695|\n",
      "|2016-06-01|     Joseph Hodges|            6|  4|     122.0|[4.0,122.0]|10.886554621848695|\n",
      "|2016-05-01|   Joseph Morrison|            2| 11|      78.0|[11.0,78.0]|              37.0|\n",
      "|2016-06-01|   Joseph Morrison|            3| 12|      78.0|[12.0,78.0]|              56.0|\n",
      "|2016-06-01|      Amelia Nolan|            3|  7|     104.0|[7.0,104.0]|11.937888198757681|\n",
      "|2016-05-01| Andrea Rutherford|           36| 11|      21.0|[11.0,21.0]|              37.0|\n",
      "|2016-06-01| Andrea Rutherford|           13| 12|      21.0|[12.0,21.0]|              56.0|\n",
      "|2016-05-01|   Nicholas Gibson|            1|  5|     119.0|[5.0,119.0]|11.937888198757681|\n",
      "|2016-05-01|       Karen Avery|           23| 11|      52.0|[11.0,52.0]|              37.0|\n",
      "|2016-06-01|       Karen Avery|            7| 12|      52.0|[12.0,52.0]|              56.0|\n",
      "|2016-05-01|        Sally Knox|            4| 10|      86.0|[10.0,86.0]|              25.0|\n",
      "|2016-06-01|        Sally Knox|            8| 11|      86.0|[11.0,86.0]|              37.0|\n",
      "|2016-05-01|   Theresa Vaughan|            1|  3|     123.0|[3.0,123.0]|10.886554621848695|\n",
      "|2016-06-01|   Theresa Vaughan|            1|  4|     123.0|[4.0,123.0]|10.886554621848695|\n",
      "|2016-05-01|      Charles Bell|            5|  9|      90.0| [9.0,90.0]|14.224719101123606|\n",
      "|2016-06-01|      Charles Bell|            2| 10|      90.0|[10.0,90.0]|              25.0|\n",
      "|2016-05-01|  Connor Churchill|            9| 11|      64.0|[11.0,64.0]|              37.0|\n",
      "|2016-06-01|  Connor Churchill|           11| 12|      64.0|[12.0,64.0]|              56.0|\n",
      "|2016-05-01|    Sonia Marshall|            4| 11|      38.0|[11.0,38.0]|              37.0|\n",
      "|2016-06-01|    Sonia Marshall|            9| 12|      38.0|[12.0,38.0]|              56.0|\n",
      "|2016-05-01|        Lily Short|           16| 11|      69.0|[11.0,69.0]|              37.0|\n",
      "|2016-06-01|        Lily Short|           15| 12|      69.0|[12.0,69.0]|              56.0|\n",
      "|2016-05-01|       Gordon Reid|            2|  6|     106.0|[6.0,106.0]|11.937888198757681|\n",
      "|2016-06-01|       Gordon Reid|            1|  7|     106.0|[7.0,106.0]|11.937888198757681|\n",
      "|2016-05-01|     Leah Marshall|           13| 11|      26.0|[11.0,26.0]|              37.0|\n",
      "|2016-06-01|     Leah Marshall|            6| 12|      26.0|[12.0,26.0]|              56.0|\n",
      "|2016-05-01|     Lillian North|            2|  4|     116.0|[4.0,116.0]|10.886554621848695|\n",
      "|2016-06-01|     Lillian North|            4|  5|     116.0|[5.0,116.0]|11.937888198757681|\n",
      "|2016-05-01|     Wendy Ellison|           32| 12|       8.0| [12.0,8.0]|              56.0|\n",
      "|2016-06-01|     Wendy Ellison|           17| 13|       8.0| [13.0,8.0]|              56.0|\n",
      "|2016-05-01| Alexander Coleman|            4| 11|      63.0|[11.0,63.0]|              37.0|\n",
      "|2016-06-01| Alexander Coleman|            3| 12|      63.0|[12.0,63.0]|              56.0|\n",
      "|2016-05-01|       Boris Clark|            6|  4|     120.0|[4.0,120.0]|10.886554621848695|\n",
      "|2016-06-01|       Boris Clark|            9|  5|     120.0|[5.0,120.0]|11.937888198757681|\n",
      "|2016-06-01|     Carl Davidson|            1|  2|     147.0|[2.0,147.0]|               9.0|\n",
      "|2016-05-01|   Jessica Jackson|           13| 11|      50.0|[11.0,50.0]|              37.0|\n",
      "|2016-06-01|   Jessica Jackson|           20| 12|      50.0|[12.0,50.0]|              56.0|\n",
      "|2016-05-01|     Lillian James|           65| 11|      40.0|[11.0,40.0]|              37.0|\n",
      "|2016-06-01|     Lillian James|           93| 12|      40.0|[12.0,40.0]|              56.0|\n",
      "|2016-05-01|      Rachel Brown|           17| 12|      16.0|[12.0,16.0]|              56.0|\n",
      "|2016-06-01|      Rachel Brown|            9| 13|      16.0|[13.0,16.0]|              56.0|\n",
      "|2016-05-01|      Frank Murray|            1|  2|     138.0|[2.0,138.0]|               9.0|\n",
      "|2016-05-01|       Steven Bond|            1|  1|     142.0|[1.0,142.0]|               6.0|\n",
      "|2016-06-01|       Steven Bond|            3|  2|     142.0|[2.0,142.0]|               9.0|\n",
      "|2016-05-01|         Sam Allan|           18| 11|      17.0|[11.0,17.0]|              37.0|\n",
      "|2016-06-01|         Sam Allan|           23| 12|      17.0|[12.0,17.0]|              56.0|\n",
      "|2016-05-01|   Bernadette Rees|           22| 11|      30.0|[11.0,30.0]|              37.0|\n",
      "|2016-06-01|   Bernadette Rees|            3| 12|      30.0|[12.0,30.0]|              56.0|\n",
      "|2016-05-01|        Ryan Alsop|            8| 11|      49.0|[11.0,49.0]|              37.0|\n",
      "|2016-06-01|        Ryan Alsop|           10| 12|      49.0|[12.0,49.0]|              56.0|\n",
      "|2016-05-01|   Victor Hardacre|            2|  8|      95.0| [8.0,95.0]| 12.54216867469878|\n",
      "|2016-06-01|   Victor Hardacre|            6|  9|      95.0| [9.0,95.0]|14.224719101123606|\n",
      "|2016-05-01|   Benjamin Wright|           25| 11|      28.0|[11.0,28.0]|              37.0|\n",
      "|2016-06-01|   Benjamin Wright|           34| 12|      28.0|[12.0,28.0]|              56.0|\n",
      "|2016-05-01|        Mary Vance|            2|  7|     101.0|[7.0,101.0]|11.937888198757681|\n",
      "|2016-06-01|        Mary Vance|            3|  8|     101.0|[8.0,101.0]| 12.54216867469878|\n",
      "|2016-05-01|    Carol Buckland|           10| 10|      82.0|[10.0,82.0]|              25.0|\n",
      "|2016-06-01|    Carol Buckland|           15| 11|      82.0|[11.0,82.0]|              37.0|\n",
      "|2016-05-01|     David Ellison|            2|  1|     153.0|[1.0,153.0]|               6.0|\n",
      "|2016-05-01| Leonard Robertson|           14| 11|      60.0|[11.0,60.0]|              37.0|\n",
      "|2016-06-01| Leonard Robertson|            5| 12|      60.0|[12.0,60.0]|              56.0|\n",
      "|2016-05-01|   Trevor Lawrence|           65| 11|      58.0|[11.0,58.0]|              37.0|\n",
      "|2016-06-01|   Trevor Lawrence|           29| 12|      58.0|[12.0,58.0]|              56.0|\n",
      "|2016-05-01|     Zoe Underwood|           15|  4|     117.0|[4.0,117.0]|10.886554621848695|\n",
      "|2016-06-01|     Zoe Underwood|           10|  5|     117.0|[5.0,117.0]|11.937888198757681|\n",
      "|2016-05-01|       Alan Martin|           60| 11|      33.0|[11.0,33.0]|              37.0|\n",
      "|2016-06-01|       Alan Martin|           69| 12|      33.0|[12.0,33.0]|              56.0|\n",
      "|2016-05-01|   Andrew Johnston|            7| 11|      23.0|[11.0,23.0]|              37.0|\n",
      "|2016-06-01|   Andrew Johnston|           10| 12|      23.0|[12.0,23.0]|              56.0|\n",
      "|2016-05-01|   Sarah Mackenzie|            7| 11|      59.0|[11.0,59.0]|              37.0|\n",
      "|2016-06-01|   Sarah Mackenzie|            5| 12|      59.0|[12.0,59.0]|              56.0|\n",
      "|2016-05-01|     Faith Coleman|            2| 11|      35.0|[11.0,35.0]|              37.0|\n",
      "|2016-06-01|     Faith Coleman|            8| 12|      35.0|[12.0,35.0]|              56.0|\n",
      "|2016-05-01|    Anthony Bailey|           12|  8|      93.0| [8.0,93.0]| 12.54216867469878|\n",
      "|2016-06-01|    Anthony Bailey|            8|  9|      93.0| [9.0,93.0]|14.224719101123606|\n",
      "|2016-05-01|     Mary Marshall|           10| 11|      39.0|[11.0,39.0]|              37.0|\n",
      "|2016-06-01|     Mary Marshall|           11| 12|      39.0|[12.0,39.0]|              56.0|\n",
      "|2016-05-01|   Alexander Clark|            4|  6|     115.0|[6.0,115.0]|11.937888198757681|\n",
      "|2016-06-01|Sebastian Ferguson|            6|  1|     161.0|[1.0,161.0]|               6.0|\n",
      "|2016-05-01|       Audrey Dyer|           13| 12|       7.0| [12.0,7.0]|              56.0|\n",
      "|2016-06-01|       Audrey Dyer|           16| 13|       7.0| [13.0,7.0]|              56.0|\n",
      "|2016-06-01|    Felicity Allan|           16|  1|     172.0|[1.0,172.0]|               6.0|\n",
      "|2016-05-01|    Harry Springer|           32| 11|      44.0|[11.0,44.0]|              37.0|\n",
      "|2016-06-01|    Harry Springer|           28| 12|      44.0|[12.0,44.0]|              56.0|\n",
      "|2016-05-01|       Gordon King|           17| 11|      68.0|[11.0,68.0]|              37.0|\n",
      "|2016-06-01|       Gordon King|           43| 12|      68.0|[12.0,68.0]|              56.0|\n",
      "+----------+------------------+-------------+---+----------+-----------+------------------+\n",
      "only showing top 100 rows\n",
      "\n"
     ]
    }
   ],
   "source": [
    "transformed_isod.show(100)"
   ]
  },
  {
   "cell_type": "code",
   "execution_count": null,
   "metadata": {
    "collapsed": true,
    "deletable": true,
    "editable": true
   },
   "outputs": [],
   "source": []
  },
  {
   "cell_type": "code",
   "execution_count": null,
   "metadata": {
    "collapsed": true
   },
   "outputs": [],
   "source": []
  },
  {
   "cell_type": "code",
   "execution_count": 22,
   "metadata": {
    "collapsed": false
   },
   "outputs": [
    {
     "data": {
      "text/plain": [
       "92.19588622977538"
      ]
     },
     "execution_count": 22,
     "metadata": {},
     "output_type": "execute_result"
    }
   ],
   "source": [
    "grouped_specialty = reading_mod.groupby('Date', 'Specialty').agg({'Specialty': 'count'})\n",
    "grouped_specialty_with_date = grouped_specialty.withColumn('Date', change_to_date_func(col('Date')))\n",
    "window_row_specialty = Window().partitionBy('Specialty').orderBy('Date')\n",
    "grouped_specialty_with_date_new = grouped_specialty_with_date.withColumn('id', \n",
    "                                                                         row_number().over(window_row_specialty))\n",
    "strindexer = StringIndexer(inputCol=\"Specialty\", outputCol=\"Specialty_idx\")\n",
    "model_strindexer = strindexer.fit(grouped_specialty_with_date_new)\n",
    "grouped_specialty_with_date_new_indexed = model_strindexer.transform(grouped_specialty_with_date_new)\n",
    "assembler = VectorAssembler(inputCols=[\"id\", \"Specialty_idx\"], outputCol=\"features\")\n",
    "grouped_specialty_with_date_new_1 = assembler.transform(grouped_specialty_with_date_new_indexed)\n",
    "training_specialty_df = grouped_specialty_with_date_new_1\n",
    "testing_specialty_df = grouped_specialty_with_date_new_1.where(col('Date') > datetime(2016,4,2))\n",
    "lrs = LinearRegression(maxIter=1000, regParam=0.01, elasticNetParam=0.0, labelCol=\"count(Specialty)\", \n",
    "                       featuresCol=\"features\")\n",
    "model_lrs = lrs.fit(training_specialty_df.select(\"features\", \"count(Specialty)\"))\n",
    "transformed_lrs = model_lrs.transform(testing_specialty_df)\n",
    "regev_s = RegressionEvaluator(labelCol=\"count(Specialty)\")\n",
    "regev_s.evaluate(transformed_lrs.select(\"count(Specialty)\", \"prediction\"), {regev_s.metricName: \"mae\"})"
   ]
  },
  {
   "cell_type": "code",
   "execution_count": 23,
   "metadata": {
    "collapsed": true
   },
   "outputs": [
    {
     "name": "stdout",
     "output_type": "stream",
     "text": [
      "+----------+--------------------+----------------+---+-------------+-----------+------------------+\n",
      "|      Date|           Specialty|count(Specialty)| id|Specialty_idx|   features|        prediction|\n",
      "+----------+--------------------+----------------+---+-------------+-----------+------------------+\n",
      "|2016-05-01|Cardiothoracic Su...|              20| 12|         10.0|[12.0,10.0]|  95.6616681050213|\n",
      "|2016-06-01|Cardiothoracic Su...|              20| 13|         10.0|[13.0,10.0]|101.96177808629815|\n",
      "|2016-05-01|          Obstetrics|               1|  7|         15.0| [7.0,15.0]|10.875152351507381|\n",
      "|2016-06-01|          Obstetrics|               1|  8|         15.0| [8.0,15.0]| 17.17526233278423|\n",
      "|2016-05-01|        Neurosurgery|              46| 12|          0.0| [12.0,0.0]| 202.2335997992807|\n",
      "|2016-06-01|        Neurosurgery|              33| 13|          0.0| [13.0,0.0]|208.53370978055756|\n",
      "|2016-05-01| Orthopaedic Surgery|             302| 12|          3.0| [12.0,3.0]| 170.2620202910029|\n",
      "|2016-06-01| Orthopaedic Surgery|             297| 13|          3.0| [13.0,3.0]|176.56213027227972|\n",
      "|2016-05-01|             Urology|             317| 12|          7.0| [12.0,7.0]|127.63324761329912|\n",
      "|2016-06-01|             Urology|             244| 13|          7.0| [13.0,7.0]|133.93335759457597|\n",
      "|2016-05-01|   Ear Nose & Throat|             192| 12|          8.0| [12.0,8.0]|116.97605444387318|\n",
      "|2016-06-01|   Ear Nose & Throat|             132| 13|          8.0| [13.0,8.0]|123.27616442515003|\n",
      "|2016-05-01|Vascular & Endova...|              19| 11|         12.0|[11.0,12.0]| 68.04717178489258|\n",
      "|2016-06-01|Vascular & Endova...|              30| 12|         12.0|[12.0,12.0]| 74.34728176616942|\n",
      "|2016-05-01|         Gynaecology|             223| 12|          4.0| [12.0,4.0]|159.60482712157693|\n",
      "|2016-06-01|         Gynaecology|             220| 13|          4.0| [13.0,4.0]| 165.9049371028538|\n",
      "|2016-05-01|       Ophthalmology|             375| 12|          1.0| [12.0,1.0]|191.57640662985477|\n",
      "|2016-06-01|       Ophthalmology|             323| 13|          1.0| [13.0,1.0]|197.87651661113162|\n",
      "|2016-05-01|  Paediatric Surgery|              38| 12|          6.0| [12.0,6.0]|138.29044078272506|\n",
      "|2016-06-01|  Paediatric Surgery|              35| 13|          6.0| [13.0,6.0]| 144.5905507640019|\n",
      "|2016-05-01|      Gynae Oncology|              14| 11|         11.0|[11.0,11.0]| 78.70436495431852|\n",
      "|2016-06-01|      Gynae Oncology|              14| 12|         11.0|[12.0,11.0]| 85.00447493559535|\n",
      "|2016-05-01|     General Surgery|             424| 12|          2.0| [12.0,2.0]|180.91921346042884|\n",
      "|2016-06-01|     General Surgery|             439| 13|          2.0| [13.0,2.0]|187.21932344170568|\n",
      "|2016-05-01|Plastic and Recon...|             207| 12|          5.0| [12.0,5.0]|148.94763395215102|\n",
      "|2016-06-01|Plastic and Recon...|             200| 13|          5.0| [13.0,5.0]|155.24774393342784|\n",
      "|2016-05-01|Oral Maxillo Faci...|               9| 12|          9.0| [12.0,9.0]|106.31886127444724|\n",
      "|2016-06-01|Oral Maxillo Faci...|              12| 13|          9.0| [13.0,9.0]|112.61897125572409|\n",
      "|2016-05-01|    Gastroenterology|              10|  9|         13.0| [9.0,13.0]| 44.78975865291294|\n",
      "|2016-06-01|    Gastroenterology|               3| 10|         13.0|[10.0,13.0]|51.089868634189784|\n",
      "|2016-05-01|Obstetrics/Gynaec...|               3|  8|         14.0| [8.0,14.0]|27.832455502210166|\n",
      "|2016-06-01|Obstetrics/Gynaec...|               3|  9|         14.0| [9.0,14.0]|   34.132565483487|\n",
      "+----------+--------------------+----------------+---+-------------+-----------+------------------+\n",
      "\n"
     ]
    }
   ],
   "source": [
    "transformed_lrs.show(100)"
   ]
  },
  {
   "cell_type": "code",
   "execution_count": 18,
   "metadata": {
    "collapsed": false
   },
   "outputs": [
    {
     "data": {
      "text/plain": [
       "116.3355022170811"
      ]
     },
     "execution_count": 18,
     "metadata": {},
     "output_type": "execute_result"
    }
   ],
   "source": [
    "isos = IsotonicRegression(labelCol=\"count(Specialty)\", featuresCol=\"features\")\n",
    "model_isos = isos.fit(training_specialty_df.select(\"features\", \"count(Specialty)\"))\n",
    "transformed_isos = model_isos.transform(testing_specialty_df)\n",
    "regev_s = RegressionEvaluator(labelCol=\"count(Specialty)\")\n",
    "regev_s.evaluate(transformed_isos.select(\"count(Specialty)\", \"prediction\"), {regev_s.metricName: \"mae\"})"
   ]
  },
  {
   "cell_type": "code",
   "execution_count": 19,
   "metadata": {
    "collapsed": true
   },
   "outputs": [
    {
     "name": "stdout",
     "output_type": "stream",
     "text": [
      "+----------+--------------------+----------------+---+-------------+-----------+------------------+\n",
      "|      Date|           Specialty|count(Specialty)| id|Specialty_idx|   features|        prediction|\n",
      "+----------+--------------------+----------------+---+-------------+-----------+------------------+\n",
      "|2016-05-01|Cardiothoracic Su...|              20| 12|         10.0|[12.0,10.0]| 189.3333333333333|\n",
      "|2016-06-01|Cardiothoracic Su...|              20| 13|         10.0|[13.0,10.0]|             244.0|\n",
      "|2016-05-01|          Obstetrics|               1|  7|         15.0| [7.0,15.0]| 77.28421052631546|\n",
      "|2016-06-01|          Obstetrics|               1|  8|         15.0| [8.0,15.0]| 77.28421052631546|\n",
      "|2016-05-01|        Neurosurgery|              46| 12|          0.0| [12.0,0.0]| 189.3333333333333|\n",
      "|2016-06-01|        Neurosurgery|              33| 13|          0.0| [13.0,0.0]|             244.0|\n",
      "|2016-05-01| Orthopaedic Surgery|             302| 12|          3.0| [12.0,3.0]| 189.3333333333333|\n",
      "|2016-06-01| Orthopaedic Surgery|             297| 13|          3.0| [13.0,3.0]|             244.0|\n",
      "|2016-05-01|             Urology|             317| 12|          7.0| [12.0,7.0]| 189.3333333333333|\n",
      "|2016-06-01|             Urology|             244| 13|          7.0| [13.0,7.0]|             244.0|\n",
      "|2016-05-01|   Ear Nose & Throat|             192| 12|          8.0| [12.0,8.0]| 189.3333333333333|\n",
      "|2016-06-01|   Ear Nose & Throat|             132| 13|          8.0| [13.0,8.0]|             244.0|\n",
      "|2016-05-01|Vascular & Endova...|              19| 11|         12.0|[11.0,12.0]|105.53846153846145|\n",
      "|2016-06-01|Vascular & Endova...|              30| 12|         12.0|[12.0,12.0]| 189.3333333333333|\n",
      "|2016-05-01|         Gynaecology|             223| 12|          4.0| [12.0,4.0]| 189.3333333333333|\n",
      "|2016-06-01|         Gynaecology|             220| 13|          4.0| [13.0,4.0]|             244.0|\n",
      "|2016-05-01|       Ophthalmology|             375| 12|          1.0| [12.0,1.0]| 189.3333333333333|\n",
      "|2016-06-01|       Ophthalmology|             323| 13|          1.0| [13.0,1.0]|             244.0|\n",
      "|2016-05-01|  Paediatric Surgery|              38| 12|          6.0| [12.0,6.0]| 189.3333333333333|\n",
      "|2016-06-01|  Paediatric Surgery|              35| 13|          6.0| [13.0,6.0]|             244.0|\n",
      "|2016-05-01|      Gynae Oncology|              14| 11|         11.0|[11.0,11.0]|105.53846153846145|\n",
      "|2016-06-01|      Gynae Oncology|              14| 12|         11.0|[12.0,11.0]| 189.3333333333333|\n",
      "|2016-05-01|     General Surgery|             424| 12|          2.0| [12.0,2.0]| 189.3333333333333|\n",
      "|2016-06-01|     General Surgery|             439| 13|          2.0| [13.0,2.0]|             244.0|\n",
      "|2016-05-01|Plastic and Recon...|             207| 12|          5.0| [12.0,5.0]| 189.3333333333333|\n",
      "|2016-06-01|Plastic and Recon...|             200| 13|          5.0| [13.0,5.0]|             244.0|\n",
      "|2016-05-01|Oral Maxillo Faci...|               9| 12|          9.0| [12.0,9.0]| 189.3333333333333|\n",
      "|2016-06-01|Oral Maxillo Faci...|              12| 13|          9.0| [13.0,9.0]|             244.0|\n",
      "|2016-05-01|    Gastroenterology|              10|  9|         13.0| [9.0,13.0]| 77.28421052631546|\n",
      "|2016-06-01|    Gastroenterology|               3| 10|         13.0|[10.0,13.0]|102.57142857142844|\n",
      "|2016-05-01|Obstetrics/Gynaec...|               3|  8|         14.0| [8.0,14.0]| 77.28421052631546|\n",
      "|2016-06-01|Obstetrics/Gynaec...|               3|  9|         14.0| [9.0,14.0]| 77.28421052631546|\n",
      "+----------+--------------------+----------------+---+-------------+-----------+------------------+\n",
      "\n"
     ]
    }
   ],
   "source": [
    "transformed_isos.show(100)"
   ]
  },
  {
   "cell_type": "code",
   "execution_count": 34,
   "metadata": {
    "collapsed": false
   },
   "outputs": [
    {
     "data": {
      "text/plain": [
       "185.14539055426448"
      ]
     },
     "execution_count": 34,
     "metadata": {},
     "output_type": "execute_result"
    }
   ],
   "source": [
    "grouped_hospital = reading_mod.groupby('Date', 'Hospital').agg({'Hospital': 'count'})\n",
    "grouped_hospital_with_date = grouped_hospital.withColumn('Date', change_to_date_func(col('Date')))\n",
    "window_row_hospital = Window().partitionBy('Hospital').orderBy('Date')\n",
    "grouped_hospital_with_date_new = grouped_hospital_with_date.withColumn('id', \n",
    "                                                                         row_number().over(window_row_hospital))\n",
    "strindexer = StringIndexer(inputCol=\"Hospital\", outputCol=\"Hospital_idx\")\n",
    "model_strindexer = strindexer.fit(grouped_hospital_with_date_new)\n",
    "grouped_hospital_with_date_new_indexed = model_strindexer.transform(grouped_hospital_with_date_new)\n",
    "assembler = VectorAssembler(inputCols=[\"id\", \"Hospital_idx\"], outputCol=\"features\")\n",
    "grouped_hospital_with_date_new_1 = assembler.transform(grouped_hospital_with_date_new_indexed)\n",
    "training_hospital_df = grouped_hospital_with_date_new_1\n",
    "testing_hospital_df = grouped_hospital_with_date_new_1.where(col('Date') > datetime(2016,4,2))\n",
    "lrh = LinearRegression(maxIter=1000, regParam=0.0, elasticNetParam=1.0, labelCol=\"count(Hospital)\", \n",
    "                       featuresCol=\"features\")\n",
    "model_lrh = lrh.fit(training_hospital_df.select(\"features\", \"count(Hospital)\"))\n",
    "transformed_lrh = model_lrh.transform(testing_hospital_df)\n",
    "regev_h = RegressionEvaluator(labelCol=\"count(Hospital)\")\n",
    "regev_h.evaluate(transformed_lrh.select(\"count(Hospital)\", \"prediction\"), {regev_s.metricName: \"mae\"})"
   ]
  },
  {
   "cell_type": "code",
   "execution_count": 35,
   "metadata": {
    "collapsed": false
   },
   "outputs": [
    {
     "name": "stdout",
     "output_type": "stream",
     "text": [
      "+----------+--------+---------------+---+------------+----------+-----------------+\n",
      "|      Date|Hospital|count(Hospital)| id|Hospital_idx|  features|       prediction|\n",
      "+----------+--------+---------------+---+------------+----------+-----------------+\n",
      "|2016-05-01|     Hob|            247| 12|         3.0|[12.0,3.0]|266.4807692307692|\n",
      "|2016-06-01|     Hob|            237| 13|         3.0|[13.0,3.0]|292.7692307692307|\n",
      "|2016-05-01|     Syd|            927| 12|         0.0|[12.0,0.0]|668.3653846153845|\n",
      "|2016-06-01|     Syd|            790| 13|         0.0|[13.0,0.0]| 694.653846153846|\n",
      "|2016-05-01|    Bris|            227| 12|         2.0|[12.0,2.0]|400.4423076923076|\n",
      "|2016-06-01|    Bris|            205| 13|         2.0|[13.0,2.0]|426.7307692307691|\n",
      "|2016-05-01|     Mel|            799| 12|         1.0|[12.0,1.0]|534.4038461538461|\n",
      "|2016-06-01|     Mel|            774| 13|         1.0|[13.0,1.0]|560.6923076923075|\n",
      "+----------+--------+---------------+---+------------+----------+-----------------+\n",
      "\n"
     ]
    }
   ],
   "source": [
    "transformed_lrh.show(100)"
   ]
  },
  {
   "cell_type": "code",
   "execution_count": 29,
   "metadata": {
    "collapsed": false
   },
   "outputs": [
    {
     "data": {
      "text/plain": [
       "304.19571208352033"
      ]
     },
     "execution_count": 29,
     "metadata": {},
     "output_type": "execute_result"
    }
   ],
   "source": [
    "isoh = IsotonicRegression(labelCol=\"count(Hospital)\", featuresCol=\"features\")\n",
    "model_isoh = isoh.fit(training_hospital_df.select(\"features\", \"count(Hospital)\"))\n",
    "transformed_isoh = model_isoh.transform(testing_hospital_df)\n",
    "regev_h = RegressionEvaluator(labelCol=\"count(Hospital)\")\n",
    "regev_h.evaluate(transformed_isoh.select(\"count(Hospital)\", \"prediction\"), {regev_s.metricName: \"mae\"})"
   ]
  },
  {
   "cell_type": "code",
   "execution_count": 31,
   "metadata": {
    "collapsed": false
   },
   "outputs": [
    {
     "name": "stdout",
     "output_type": "stream",
     "text": [
      "+----------+--------+---------------+---+------------+----------+------------------+\n",
      "|      Date|Hospital|count(Hospital)| id|Hospital_idx|  features|        prediction|\n",
      "+----------+--------+---------------+---+------------+----------+------------------+\n",
      "|2016-05-01|     Hob|            247| 12|         3.0|[12.0,3.0]|482.75000000000006|\n",
      "|2016-06-01|     Hob|            237| 13|         3.0|[13.0,3.0]|             542.0|\n",
      "|2016-05-01|     Syd|            927| 12|         0.0|[12.0,0.0]|482.75000000000006|\n",
      "|2016-06-01|     Syd|            790| 13|         0.0|[13.0,0.0]|             542.0|\n",
      "|2016-05-01|    Bris|            227| 12|         2.0|[12.0,2.0]|482.75000000000006|\n",
      "|2016-06-01|    Bris|            205| 13|         2.0|[13.0,2.0]|             542.0|\n",
      "|2016-05-01|     Mel|            799| 12|         1.0|[12.0,1.0]|482.75000000000006|\n",
      "|2016-06-01|     Mel|            774| 13|         1.0|[13.0,1.0]|             542.0|\n",
      "+----------+--------+---------------+---+------------+----------+------------------+\n",
      "\n"
     ]
    }
   ],
   "source": [
    "transformed_isoh.show(100)"
   ]
  },
  {
   "cell_type": "code",
   "execution_count": 41,
   "metadata": {
    "collapsed": false
   },
   "outputs": [
    {
     "data": {
      "text/plain": [
       "32.625"
      ]
     },
     "execution_count": 41,
     "metadata": {},
     "output_type": "execute_result"
    }
   ],
   "source": [
    "dth = DecisionTreeRegressor(maxDepth=3, labelCol=\"count(Hospital)\", featuresCol=\"features\")\n",
    "model_dth = dth.fit(training_hospital_df.select('count(Hospital)', 'features'))\n",
    "transformed_dth = model_dth.transform(testing_hospital_df)\n",
    "regev_dth = RegressionEvaluator(labelCol=\"count(Hospital)\")\n",
    "regev_dth.evaluate(transformed_dth.select(\"count(Hospital)\", \"prediction\"), {regev_dth.metricName: \"mae\"})"
   ]
  },
  {
   "cell_type": "code",
   "execution_count": 39,
   "metadata": {
    "collapsed": false
   },
   "outputs": [
    {
     "name": "stdout",
     "output_type": "stream",
     "text": [
      "+----------+--------+---------------+---+------------+----------+----------+\n",
      "|      Date|Hospital|count(Hospital)| id|Hospital_idx|  features|prediction|\n",
      "+----------+--------+---------------+---+------------+----------+----------+\n",
      "|2016-05-01|     Hob|            247| 12|         3.0|[12.0,3.0]|     229.0|\n",
      "|2016-06-01|     Hob|            237| 13|         3.0|[13.0,3.0]|     229.0|\n",
      "|2016-05-01|     Syd|            927| 12|         0.0|[12.0,0.0]|     822.5|\n",
      "|2016-06-01|     Syd|            790| 13|         0.0|[13.0,0.0]|     822.5|\n",
      "|2016-05-01|    Bris|            227| 12|         2.0|[12.0,2.0]|     229.0|\n",
      "|2016-06-01|    Bris|            205| 13|         2.0|[13.0,2.0]|     229.0|\n",
      "|2016-05-01|     Mel|            799| 12|         1.0|[12.0,1.0]|     822.5|\n",
      "|2016-06-01|     Mel|            774| 13|         1.0|[13.0,1.0]|     822.5|\n",
      "+----------+--------+---------------+---+------------+----------+----------+\n",
      "\n"
     ]
    }
   ],
   "source": [
    "transformed_dth.show(100)"
   ]
  },
  {
   "cell_type": "code",
   "execution_count": null,
   "metadata": {
    "collapsed": true
   },
   "outputs": [],
   "source": []
  }
 ],
 "metadata": {
  "kernelspec": {
   "display_name": "Python 2",
   "language": "python",
   "name": "python2"
  },
  "language_info": {
   "codemirror_mode": {
    "name": "ipython",
    "version": 2
   },
   "file_extension": ".py",
   "mimetype": "text/x-python",
   "name": "python",
   "nbconvert_exporter": "python",
   "pygments_lexer": "ipython2",
   "version": "2.7.12"
  }
 },
 "nbformat": 4,
 "nbformat_minor": 2
}
