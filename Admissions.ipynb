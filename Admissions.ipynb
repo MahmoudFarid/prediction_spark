{
 "cells": [
  {
   "cell_type": "code",
   "execution_count": 1,
   "metadata": {
    "collapsed": false,
    "deletable": true,
    "editable": true
   },
   "outputs": [],
   "source": [
    "from pyspark import SparkContext\n",
    "from pyspark.sql import SparkSession, Row\n",
    "from pyspark.sql.functions import col, udf, split, row_number, last, max\n",
    "from pyspark.sql.window import Window\n",
    "from pyspark.sql.types import DateType, StringType, IntegerType\n",
    "from pyspark.ml.regression import LinearRegression, DecisionTreeRegressor, IsotonicRegression, RandomForestRegressor\n",
    "from pyspark.ml.linalg import Vectors, DenseVector, VectorUDT\n",
    "from pyspark.ml.feature import OneHotEncoder, StringIndexer, VectorAssembler\n",
    "from pyspark.ml.evaluation import RegressionEvaluator\n",
    "from pyspark.ml.tuning import ParamGridBuilder, CrossValidator"
   ]
  },
  {
   "cell_type": "code",
   "execution_count": 2,
   "metadata": {
    "collapsed": true,
    "deletable": true,
    "editable": true
   },
   "outputs": [],
   "source": [
    "from datetime import datetime, timedelta, date"
   ]
  },
  {
   "cell_type": "code",
   "execution_count": 3,
   "metadata": {
    "collapsed": false,
    "deletable": true,
    "editable": true
   },
   "outputs": [],
   "source": [
    "sc = SparkContext()\n",
    "sqlc = SparkSession(sc)"
   ]
  },
  {
   "cell_type": "code",
   "execution_count": 4,
   "metadata": {
    "collapsed": false,
    "deletable": true,
    "editable": true
   },
   "outputs": [],
   "source": [
    "change_to_month_func = udf(lambda record: int(datetime.strftime(datetime.strptime(record, '%d/%m/%Y'), '%Y%m')), IntegerType())\n",
    "change_to_date_func = udf(lambda record: datetime.strptime(str(record), '%Y%m'), DateType())\n",
    "to_vector = udf(lambda record: Vectors.dense(record), VectorUDT())\n",
    "to_vectors = udf(lambda col_a, col_b: Vectors.sparse(col_a, col_b))"
   ]
  },
  {
   "cell_type": "code",
   "execution_count": 5,
   "metadata": {
    "collapsed": false,
    "deletable": true,
    "editable": true
   },
   "outputs": [],
   "source": [
    "reading = sqlc.read.csv('Admissions 2015-16.csv', header=True)\n",
    "reading_mod = reading.withColumn('Date', change_to_month_func(col('Removal Date'))).drop('Removal Date'\n",
    "                                        ).withColumnRenamed('count(Removal Date)', 'patients_removed')"
   ]
  },
  {
   "cell_type": "code",
   "execution_count": null,
   "metadata": {
    "collapsed": false,
    "deletable": true,
    "editable": true
   },
   "outputs": [],
   "source": [
    "reading_mod.show(5)"
   ]
  },
  {
   "cell_type": "code",
   "execution_count": null,
   "metadata": {
    "collapsed": false,
    "deletable": true,
    "editable": true
   },
   "outputs": [],
   "source": []
  },
  {
   "cell_type": "code",
   "execution_count": 6,
   "metadata": {
    "collapsed": true,
    "deletable": true,
    "editable": true
   },
   "outputs": [],
   "source": [
    "grouped = reading_mod.groupby('Date').agg({'Date': 'count'})\n",
    "grouped_with_date = grouped.withColumn('Date', change_to_date_func(col('Date')))\n",
    "window_row = Window().orderBy('Date')\n",
    "grouped_new = grouped_with_date.withColumn('id', row_number().over(window_row))"
   ]
  },
  {
   "cell_type": "code",
   "execution_count": null,
   "metadata": {
    "collapsed": false,
    "deletable": true,
    "editable": true
   },
   "outputs": [],
   "source": []
  },
  {
   "cell_type": "code",
   "execution_count": 8,
   "metadata": {
    "collapsed": false,
    "deletable": true,
    "editable": true
   },
   "outputs": [],
   "source": [
    "grouped_new_1 = grouped_new.withColumn('id', to_vector(col('id')))\n",
    "testing_df = grouped_new_1.where(col('Date') > datetime(2016,4,2))\n",
    "training_df = grouped_new_1.filter(col('Date') < datetime(2016,6,2))"
   ]
  },
  {
   "cell_type": "code",
   "execution_count": 8,
   "metadata": {
    "collapsed": true,
    "deletable": true,
    "editable": true
   },
   "outputs": [],
   "source": [
    "lr = LinearRegression(maxIter=100, regParam=0.01, elasticNetParam = 1.0, labelCol=\"count(Date)\", featuresCol=\"id\")\n",
    "model_lr = lr.fit(training_df.select('count(Date)', 'id'))\n",
    "model_lr.coefficients\n",
    "transformed_lr = model_lr.transform(testing_df)"
   ]
  },
  {
   "cell_type": "code",
   "execution_count": null,
   "metadata": {
    "collapsed": true,
    "deletable": true,
    "editable": true
   },
   "outputs": [],
   "source": []
  },
  {
   "cell_type": "code",
   "execution_count": 8,
   "metadata": {
    "collapsed": false,
    "deletable": true,
    "editable": true
   },
   "outputs": [],
   "source": [
    "dt = DecisionTreeRegressor(maxDepth=3, labelCol=\"count(Date)\", featuresCol=\"id\")\n",
    "model_dt = dt.fit(training_df.select('count(Date)', 'id'))\n",
    "transformed_dt = model_dt.transform(testing_df)"
   ]
  },
  {
   "cell_type": "code",
   "execution_count": 9,
   "metadata": {
    "collapsed": false,
    "deletable": true,
    "editable": true
   },
   "outputs": [
    {
     "data": {
      "text/plain": [
       "97.0"
      ]
     },
     "execution_count": 9,
     "metadata": {},
     "output_type": "execute_result"
    }
   ],
   "source": [
    "dt = DecisionTreeRegressor()\n",
    "params = ParamGridBuilder().baseOn({dt.labelCol: \"count(Date)\"}).baseOn({dt.featuresCol: \"id\"}).addGrid(\n",
    "                                    dt.maxDepth, [3, 5, 7]).build()\n",
    "regev_dt = RegressionEvaluator(labelCol='count(Date)')\n",
    "# regev_dtk.evaluate(transformed_dtk.select(\"count(Date)\", \"prediction\"), {regev_dtk.metricName: \"mae\"})\n",
    "cv = CrossValidator(estimator=dt, estimatorParamMaps=params, evaluator=regev_dt)\n",
    "cv_model = cv.fit(training_df.select('count(Date)', 'id'))\n",
    "transformed_dt_cv = cv_model.transform(testing_df)\n",
    "regev_dt.evaluate(transformed_dt_cv, {regev_dt.metricName: \"mae\"})"
   ]
  },
  {
   "cell_type": "code",
   "execution_count": 23,
   "metadata": {
    "collapsed": false,
    "deletable": true,
    "editable": true
   },
   "outputs": [],
   "source": [
    "import os \n",
    "transformed_dt_cv.select('Date', 'prediction').write.format('csv').save(os.path.join(os.curdir, 'predictions'), mode='overwrite', header=True)"
   ]
  },
  {
   "cell_type": "code",
   "execution_count": 12,
   "metadata": {
    "collapsed": false,
    "deletable": true,
    "editable": true
   },
   "outputs": [
    {
     "name": "stdout",
     "output_type": "stream",
     "text": [
      "+----------+------------+----------+\n",
      "|      Date|<lambda>(id)|prediction|\n",
      "+----------+------------+----------+\n",
      "|2016-05-01|      [12.0]|    2103.0|\n",
      "|2016-06-01|      [13.0]|    2103.0|\n",
      "+----------+------------+----------+\n",
      "\n"
     ]
    }
   ],
   "source": [
    "transformed_dt_cv.select('Date', to_vector(col('id')), 'prediction').show(10)"
   ]
  },
  {
   "cell_type": "code",
   "execution_count": null,
   "metadata": {
    "collapsed": true,
    "deletable": true,
    "editable": true
   },
   "outputs": [],
   "source": [
    "iso = IsotonicRegression(labelCol=\"count(Date)\", featuresCol=\"id\")\n",
    "model_iso = iso.fit(training_df.select(\"count(Date)\", \"id\"))\n",
    "transformed_iso = model_iso.transform(testing_df)"
   ]
  },
  {
   "cell_type": "code",
   "execution_count": null,
   "metadata": {
    "collapsed": false,
    "deletable": true,
    "editable": true
   },
   "outputs": [],
   "source": []
  },
  {
   "cell_type": "code",
   "execution_count": null,
   "metadata": {
    "collapsed": false,
    "deletable": true,
    "editable": true
   },
   "outputs": [],
   "source": [
    "rf = RandomForestRegressor(numTrees=3, maxDepth=5,labelCol=\"count(Date)\", featuresCol=\"id\")\n",
    "model_rf = rf.fit(training_df.select(\"count(Date)\", \"id\"))\n",
    "transformed_rd = model_rf.transform(testing_df)\n",
    "transformed_rd.show(10)"
   ]
  },
  {
   "cell_type": "code",
   "execution_count": null,
   "metadata": {
    "collapsed": true,
    "deletable": true,
    "editable": true
   },
   "outputs": [],
   "source": []
  },
  {
   "cell_type": "code",
   "execution_count": null,
   "metadata": {
    "collapsed": true,
    "deletable": true,
    "editable": true
   },
   "outputs": [],
   "source": []
  },
  {
   "cell_type": "code",
   "execution_count": 6,
   "metadata": {
    "collapsed": true,
    "deletable": true,
    "editable": true
   },
   "outputs": [],
   "source": [
    "grouped_doctor = reading_mod.groupby('Date', 'Doctor').agg({'Doctor': 'count'})\n",
    "grouped_doctor_with_date = grouped_doctor.withColumn('Date', change_to_date_func(col('Date')))\n",
    "window_row_doctor = Window().partitionBy('Doctor').orderBy('Date')\n",
    "grouped_doctor_with_date_new = grouped_doctor_with_date.withColumn('id', row_number().over(window_row_doctor))"
   ]
  },
  {
   "cell_type": "code",
   "execution_count": 7,
   "metadata": {
    "collapsed": false,
    "deletable": true,
    "editable": true
   },
   "outputs": [],
   "source": [
    "strindexer = StringIndexer(inputCol=\"Doctor\", outputCol=\"Doctor_idx\")\n",
    "model_strindexer = strindexer.fit(grouped_doctor_with_date_new)\n",
    "grouped_doctor_with_date_new_indexed = model_strindexer.transform(grouped_doctor_with_date_new)\n",
    "assembler = VectorAssembler(inputCols=[\"id\", \"Doctor_idx\"], outputCol=\"features\")\n",
    "grouped_doctor_with_date_new_1 = assembler.transform(grouped_doctor_with_date_new_indexed)"
   ]
  },
  {
   "cell_type": "code",
   "execution_count": 8,
   "metadata": {
    "collapsed": true,
    "deletable": true,
    "editable": true
   },
   "outputs": [],
   "source": [
    "training_df = grouped_doctor_with_date_new_1\n",
    "testing_df = grouped_doctor_with_date_new_1.where(col('Date') > datetime(2016,4,2))"
   ]
  },
  {
   "cell_type": "code",
   "execution_count": null,
   "metadata": {
    "collapsed": false,
    "deletable": true,
    "editable": true
   },
   "outputs": [],
   "source": [
    "lrd = LinearRegression(maxIter=1000, regParam=0.01, elasticNetParam=0.0, labelCol=\"count(Doctor)\", featuresCol=\"features\")\n",
    "model_lrd = lrd.fit(training_df.select(\"features\", \"count(Doctor)\"))\n",
    "transformed_lrd = model_lrd.transform(testing_df)"
   ]
  },
  {
   "cell_type": "code",
   "execution_count": null,
   "metadata": {
    "collapsed": false,
    "deletable": true,
    "editable": true
   },
   "outputs": [],
   "source": [
    "regev = RegressionEvaluator(labelCol=\"count(Doctor)\")\n",
    "regev.evaluate(transformed_lrd.select(\"count(Doctor)\", \"prediction\"), {regev.metricName: \"mae\"})"
   ]
  },
  {
   "cell_type": "code",
   "execution_count": null,
   "metadata": {
    "collapsed": false,
    "deletable": true,
    "editable": true
   },
   "outputs": [],
   "source": []
  },
  {
   "cell_type": "code",
   "execution_count": null,
   "metadata": {
    "collapsed": true,
    "deletable": true,
    "editable": true
   },
   "outputs": [],
   "source": [
    "isod = IsotonicRegression(labelCol=\"count(Doctor)\", featuresCol=\"features\")\n",
    "model_isod = isod.fit(training_df.select(\"features\", \"count(Doctor)\"))\n",
    "transformed_isod = model_isod.transform(testing_df)\n",
    "transformed_isod.show(100)"
   ]
  },
  {
   "cell_type": "code",
   "execution_count": null,
   "metadata": {
    "collapsed": true,
    "deletable": true,
    "editable": true
   },
   "outputs": [],
   "source": []
  },
  {
   "cell_type": "code",
   "execution_count": null,
   "metadata": {
    "collapsed": false,
    "deletable": true,
    "editable": true
   },
   "outputs": [],
   "source": [
    "grouped_doctor_with_date_new_1.show(10)"
   ]
  },
  {
   "cell_type": "code",
   "execution_count": null,
   "metadata": {
    "collapsed": true,
    "deletable": true,
    "editable": true
   },
   "outputs": [],
   "source": [
    "tr = grouped_doctor_with_date_new_1.where(col('Doctor_idx') >= 0.0).where(col(\n",
    "        'Doctor_idx') < 2.0)\n",
    "te = grouped_doctor_with_date_new_1.where(col('Date') > datetime(2016,4,2)).where(col('Doctor_idx') >= 0.0\n",
    "        ).where(col('Doctor_idx') < 2.0)\n",
    "dtk = DecisionTreeRegressor(maxDepth=32, labelCol=\"count(Doctor)\", featuresCol=\"features\")\n",
    "model_dtk = dtk.fit(tr)\n",
    "transformed_dtk = model_dtk.transform(te)"
   ]
  },
  {
   "cell_type": "code",
   "execution_count": null,
   "metadata": {
    "collapsed": true,
    "deletable": true,
    "editable": true
   },
   "outputs": [],
   "source": []
  },
  {
   "cell_type": "code",
   "execution_count": null,
   "metadata": {
    "collapsed": false,
    "deletable": true,
    "editable": true
   },
   "outputs": [],
   "source": [
    "#max_val_doctor = grouped_doctor_with_date_new_1.select('Doctor_idx').rdd.max()[0]\n",
    "\n",
    "training_doctor_df = grouped_doctor_with_date_new_1.where(col('Date') < datetime(2016,4,2))\n",
    "testing_doctor_df = grouped_doctor_with_date_new_1.where(col('Date') > datetime(2016,4,2))\n",
    "\n",
    "\n",
    "dtk = DecisionTreeRegressor(maxDepth=3, labelCol=\"count(Doctor)\", featuresCol=\"features\", maxBins=178)\n",
    "model_dtk = dtk.fit(training_doctor_df)\n",
    "transformed_dtk = model_dtk.transform(testing_doctor_df)\n",
    "regev_dtk = RegressionEvaluator(labelCol=\"count(Doctor)\")\n",
    "regev_dtk.evaluate(transformed_dtk.select(\"count(Doctor)\", \"prediction\"), {regev_dtk.metricName: \"mae\"})"
   ]
  },
  {
   "cell_type": "code",
   "execution_count": null,
   "metadata": {
    "collapsed": true,
    "deletable": true,
    "editable": true
   },
   "outputs": [],
   "source": [
    "transformed_dtk.show(100)"
   ]
  },
  {
   "cell_type": "code",
   "execution_count": null,
   "metadata": {
    "collapsed": false,
    "deletable": true,
    "editable": true
   },
   "outputs": [],
   "source": [
    "rfd = RandomForestRegressor(numTrees=10, maxDepth=3,labelCol=\"count(Doctor)\", featuresCol=\"features\", maxBins=178)\n",
    "model_rfd = rfd.fit(training_doctor_df.select(\"count(Doctor)\", \"features\"))\n",
    "transformed_rfd = model_rfd.transform(testing_doctor_df)\n",
    "regev_rfd = RegressionEvaluator(labelCol=\"count(Doctor)\")\n",
    "regev_rfd.evaluate(transformed_rfd.select(\"count(Doctor)\", \"prediction\"), {regev_rfd.metricName: \"r2\"})\n",
    "#transformed_rfd.show(10)"
   ]
  },
  {
   "cell_type": "code",
   "execution_count": null,
   "metadata": {
    "collapsed": false,
    "deletable": true,
    "editable": true
   },
   "outputs": [],
   "source": [
    "grouped_specialty = reading_mod.groupby('Date', 'Specialty').agg({'Specialty': 'count'})\n",
    "grouped_specialty_with_date = grouped_specialty.withColumn('Date', change_to_date_func(col('Date')))\n",
    "window_row_specialty = Window().partitionBy('Specialty').orderBy('Date')\n",
    "grouped_specialty_with_date_new = grouped_specialty_with_date.withColumn('id', \n",
    "                                                                         row_number().over(window_row_specialty))\n",
    "strindexer = StringIndexer(inputCol=\"Specialty\", outputCol=\"Specialty_idx\")\n",
    "model_strindexer = strindexer.fit(grouped_specialty_with_date_new)\n",
    "grouped_specialty_with_date_new_indexed = model_strindexer.transform(grouped_specialty_with_date_new)\n",
    "assembler = VectorAssembler(inputCols=[\"id\", \"Specialty_idx\"], outputCol=\"features\")\n",
    "grouped_specialty_with_date_new_1 = assembler.transform(grouped_specialty_with_date_new_indexed)\n",
    "training_specialty_df = grouped_specialty_with_date_new_1\n",
    "testing_specialty_df = grouped_specialty_with_date_new_1.where(col('Date') > datetime(2016,4,2))\n",
    "lrs = LinearRegression(maxIter=1000, regParam=0.01, elasticNetParam=0.0, labelCol=\"count(Specialty)\", \n",
    "                       featuresCol=\"features\")\n",
    "model_lrs = lrs.fit(training_specialty_df.select(\"features\", \"count(Specialty)\"))\n",
    "transformed_lrs = model_lrs.transform(testing_specialty_df)\n",
    "regev_s = RegressionEvaluator(labelCol=\"count(Specialty)\")\n",
    "regev_s.evaluate(transformed_lrs.select(\"count(Specialty)\", \"prediction\"), {regev_s.metricName: \"mae\"})"
   ]
  },
  {
   "cell_type": "code",
   "execution_count": null,
   "metadata": {
    "collapsed": true,
    "deletable": true,
    "editable": true
   },
   "outputs": [],
   "source": [
    "transformed_lrs.show(100)"
   ]
  },
  {
   "cell_type": "code",
   "execution_count": null,
   "metadata": {
    "collapsed": false,
    "deletable": true,
    "editable": true
   },
   "outputs": [],
   "source": [
    "isos = IsotonicRegression(labelCol=\"count(Specialty)\", featuresCol=\"features\")\n",
    "model_isos = isos.fit(training_specialty_df.select(\"features\", \"count(Specialty)\"))\n",
    "transformed_isos = model_isos.transform(testing_specialty_df)\n",
    "regev_s = RegressionEvaluator(labelCol=\"count(Specialty)\")\n",
    "regev_s.evaluate(transformed_isos.select(\"count(Specialty)\", \"prediction\"), {regev_s.metricName: \"mae\"})"
   ]
  },
  {
   "cell_type": "code",
   "execution_count": null,
   "metadata": {
    "collapsed": true,
    "deletable": true,
    "editable": true
   },
   "outputs": [],
   "source": [
    "transformed_isos.show(100)"
   ]
  },
  {
   "cell_type": "code",
   "execution_count": null,
   "metadata": {
    "collapsed": false,
    "deletable": true,
    "editable": true
   },
   "outputs": [],
   "source": [
    "dts = DecisionTreeRegressor(maxDepth=3, labelCol=\"count(Specialty)\", featuresCol=\"features\")\n",
    "model_dts = dts.fit(training_specialty_df.select('count(Specialty)', 'features'))\n",
    "transformed_dts = model_dts.transform(testing_specialty_df)\n",
    "regev_dts = RegressionEvaluator(labelCol=\"count(Specialty)\")\n",
    "regev_dts.evaluate(transformed_dts.select(\"count(Specialty)\", \"prediction\"), {regev_dts.metricName: \"mae\"})"
   ]
  },
  {
   "cell_type": "code",
   "execution_count": null,
   "metadata": {
    "collapsed": false,
    "deletable": true,
    "editable": true
   },
   "outputs": [],
   "source": [
    "transformed_dts.show(100)"
   ]
  },
  {
   "cell_type": "code",
   "execution_count": null,
   "metadata": {
    "collapsed": false,
    "deletable": true,
    "editable": true
   },
   "outputs": [],
   "source": [
    "grouped_hospital = reading_mod.groupby('Date', 'Hospital').agg({'Hospital': 'count'})\n",
    "grouped_hospital_with_date = grouped_hospital.withColumn('Date', change_to_date_func(col('Date')))\n",
    "window_row_hospital = Window().partitionBy('Hospital').orderBy('Date')\n",
    "grouped_hospital_with_date_new = grouped_hospital_with_date.withColumn('id', \n",
    "                                                                         row_number().over(window_row_hospital))\n",
    "strindexer = StringIndexer(inputCol=\"Hospital\", outputCol=\"Hospital_idx\")\n",
    "model_strindexer = strindexer.fit(grouped_hospital_with_date_new)\n",
    "grouped_hospital_with_date_new_indexed = model_strindexer.transform(grouped_hospital_with_date_new)\n",
    "assembler = VectorAssembler(inputCols=[\"id\", \"Hospital_idx\"], outputCol=\"features\")\n",
    "grouped_hospital_with_date_new_1 = assembler.transform(grouped_hospital_with_date_new_indexed)\n",
    "training_hospital_df = grouped_hospital_with_date_new_1\n",
    "testing_hospital_df = grouped_hospital_with_date_new_1.where(col('Date') > datetime(2016,4,2))\n",
    "lrh = LinearRegression(maxIter=1000, regParam=0.0, elasticNetParam=1.0, labelCol=\"count(Hospital)\", \n",
    "                       featuresCol=\"features\")\n",
    "model_lrh = lrh.fit(training_hospital_df.select(\"features\", \"count(Hospital)\"))\n",
    "transformed_lrh = model_lrh.transform(testing_hospital_df)\n",
    "regev_h = RegressionEvaluator(labelCol=\"count(Hospital)\")\n",
    "regev_h.evaluate(transformed_lrh.select(\"count(Hospital)\", \"prediction\"), {regev_s.metricName: \"mae\"})"
   ]
  },
  {
   "cell_type": "code",
   "execution_count": null,
   "metadata": {
    "collapsed": false,
    "deletable": true,
    "editable": true
   },
   "outputs": [],
   "source": [
    "transformed_lrh.show(100)"
   ]
  },
  {
   "cell_type": "code",
   "execution_count": null,
   "metadata": {
    "collapsed": false,
    "deletable": true,
    "editable": true
   },
   "outputs": [],
   "source": [
    "isoh = IsotonicRegression(labelCol=\"count(Hospital)\", featuresCol=\"features\")\n",
    "model_isoh = isoh.fit(training_hospital_df.select(\"features\", \"count(Hospital)\"))\n",
    "transformed_isoh = model_isoh.transform(testing_hospital_df)\n",
    "regev_h = RegressionEvaluator(labelCol=\"count(Hospital)\")\n",
    "regev_h.evaluate(transformed_isoh.select(\"count(Hospital)\", \"prediction\"), {regev_s.metricName: \"mae\"})"
   ]
  },
  {
   "cell_type": "code",
   "execution_count": null,
   "metadata": {
    "collapsed": false,
    "deletable": true,
    "editable": true
   },
   "outputs": [],
   "source": [
    "transformed_isoh.show(100)"
   ]
  },
  {
   "cell_type": "code",
   "execution_count": null,
   "metadata": {
    "collapsed": false,
    "deletable": true,
    "editable": true
   },
   "outputs": [],
   "source": [
    "dth = DecisionTreeRegressor(maxDepth=3, labelCol=\"count(Hospital)\", featuresCol=\"features\")\n",
    "model_dth = dth.fit(training_hospital_df.select('count(Hospital)', 'features'))\n",
    "transformed_dth = model_dth.transform(testing_hospital_df)\n",
    "regev_dth = RegressionEvaluator(labelCol=\"count(Hospital)\")\n",
    "regev_dth.evaluate(transformed_dth.select(\"count(Hospital)\", \"prediction\"), {regev_dth.metricName: \"mae\"})"
   ]
  },
  {
   "cell_type": "code",
   "execution_count": null,
   "metadata": {
    "collapsed": false,
    "deletable": true,
    "editable": true
   },
   "outputs": [],
   "source": [
    "transformed_dth.show(100)"
   ]
  },
  {
   "cell_type": "code",
   "execution_count": null,
   "metadata": {
    "collapsed": true,
    "deletable": true,
    "editable": true
   },
   "outputs": [],
   "source": []
  },
  {
   "cell_type": "code",
   "execution_count": null,
   "metadata": {
    "collapsed": false,
    "deletable": true,
    "editable": true
   },
   "outputs": [],
   "source": [
    "grouped_proc = reading_mod.groupby('Date', 'Procedure').agg({'Procedure': 'count'})\n",
    "grouped_proc_with_date = grouped_proc.withColumn('Date', change_to_date_func(col('Date')))\n",
    "window_row_proc = Window().partitionBy('Procedure').orderBy('Date')\n",
    "grouped_proc_with_date_new = grouped_proc_with_date.withColumn('id', row_number().over(window_row_proc))\n",
    "strindexer = StringIndexer(inputCol=\"Procedure\", outputCol=\"Procedure_idx\")\n",
    "model_strindexer = strindexer.fit(grouped_proc_with_date_new)\n",
    "grouped_proc_with_date_new_indexed = model_strindexer.transform(grouped_proc_with_date_new)\n",
    "assembler = VectorAssembler(inputCols=[\"id\", \"Procedure_idx\"], outputCol=\"features\")\n",
    "grouped_proc_with_date_new_1 = assembler.transform(grouped_proc_with_date_new_indexed)\n",
    "training_proc_df = grouped_proc_with_date_new_1\n",
    "testing_proc_df = grouped_proc_with_date_new_1.where(col('Date') > datetime(2016,4,2))\n",
    "dtproc = DecisionTreeRegressor(maxDepth=5, labelCol=\"count(Procedure)\", featuresCol=\"features\", maxBins=128)\n",
    "model_dtproc = dtproc.fit(training_proc_df.select('count(Procedure)', 'features'))\n",
    "transformed_dtproc = model_dtproc.transform(testing_proc_df)\n",
    "regev_dtproc = RegressionEvaluator(labelCol=\"count(Procedure)\")\n",
    "regev_dtproc.evaluate(transformed_dtproc.select(\"count(Procedure)\", \"prediction\"), {regev_dtproc.metricName: \"mae\"})"
   ]
  },
  {
   "cell_type": "code",
   "execution_count": null,
   "metadata": {
    "collapsed": false,
    "deletable": true,
    "editable": true
   },
   "outputs": [],
   "source": [
    "transformed_dtproc.show(10)"
   ]
  },
  {
   "cell_type": "code",
   "execution_count": 22,
   "metadata": {
    "collapsed": false,
    "deletable": true,
    "editable": true
   },
   "outputs": [
    {
     "ename": "NameError",
     "evalue": "name 'reading_mod' is not defined",
     "output_type": "error",
     "traceback": [
      "\u001b[1;31m---------------------------------------------------------------------------\u001b[0m",
      "\u001b[1;31mNameError\u001b[0m                                 Traceback (most recent call last)",
      "\u001b[1;32m<ipython-input-22-5857504c74ed>\u001b[0m in \u001b[0;36m<module>\u001b[1;34m()\u001b[0m\n\u001b[1;32m----> 1\u001b[1;33m \u001b[0mgrouped_pr\u001b[0m \u001b[1;33m=\u001b[0m \u001b[0mreading_mod\u001b[0m\u001b[1;33m.\u001b[0m\u001b[0mgroupby\u001b[0m\u001b[1;33m(\u001b[0m\u001b[1;34m'Date'\u001b[0m\u001b[1;33m,\u001b[0m \u001b[1;34m'Priority'\u001b[0m\u001b[1;33m)\u001b[0m\u001b[1;33m.\u001b[0m\u001b[0magg\u001b[0m\u001b[1;33m(\u001b[0m\u001b[1;33m{\u001b[0m\u001b[1;34m'Priority'\u001b[0m\u001b[1;33m:\u001b[0m \u001b[1;34m'count'\u001b[0m\u001b[1;33m}\u001b[0m\u001b[1;33m)\u001b[0m\u001b[1;33m\u001b[0m\u001b[0m\n\u001b[0m\u001b[0;32m      2\u001b[0m \u001b[0mgrouped_pr_with_date\u001b[0m \u001b[1;33m=\u001b[0m \u001b[0mgrouped_pr\u001b[0m\u001b[1;33m.\u001b[0m\u001b[0mwithColumn\u001b[0m\u001b[1;33m(\u001b[0m\u001b[1;34m'Date'\u001b[0m\u001b[1;33m,\u001b[0m \u001b[0mchange_to_date_func\u001b[0m\u001b[1;33m(\u001b[0m\u001b[0mcol\u001b[0m\u001b[1;33m(\u001b[0m\u001b[1;34m'Date'\u001b[0m\u001b[1;33m)\u001b[0m\u001b[1;33m)\u001b[0m\u001b[1;33m)\u001b[0m\u001b[1;33m\u001b[0m\u001b[0m\n\u001b[0;32m      3\u001b[0m \u001b[0mwindow_row_pr\u001b[0m \u001b[1;33m=\u001b[0m \u001b[0mWindow\u001b[0m\u001b[1;33m(\u001b[0m\u001b[1;33m)\u001b[0m\u001b[1;33m.\u001b[0m\u001b[0mpartitionBy\u001b[0m\u001b[1;33m(\u001b[0m\u001b[1;34m'Priority'\u001b[0m\u001b[1;33m)\u001b[0m\u001b[1;33m.\u001b[0m\u001b[0morderBy\u001b[0m\u001b[1;33m(\u001b[0m\u001b[1;34m'Date'\u001b[0m\u001b[1;33m)\u001b[0m\u001b[1;33m\u001b[0m\u001b[0m\n\u001b[0;32m      4\u001b[0m \u001b[0mgrouped_pr_with_date_new\u001b[0m \u001b[1;33m=\u001b[0m \u001b[0mgrouped_pr_with_date\u001b[0m\u001b[1;33m.\u001b[0m\u001b[0mwithColumn\u001b[0m\u001b[1;33m(\u001b[0m\u001b[1;34m'id'\u001b[0m\u001b[1;33m,\u001b[0m \u001b[0mrow_number\u001b[0m\u001b[1;33m(\u001b[0m\u001b[1;33m)\u001b[0m\u001b[1;33m.\u001b[0m\u001b[0mover\u001b[0m\u001b[1;33m(\u001b[0m\u001b[0mwindow_row_pr\u001b[0m\u001b[1;33m)\u001b[0m\u001b[1;33m)\u001b[0m\u001b[1;33m\u001b[0m\u001b[0m\n\u001b[0;32m      5\u001b[0m \u001b[0mstrindexer\u001b[0m \u001b[1;33m=\u001b[0m \u001b[0mStringIndexer\u001b[0m\u001b[1;33m(\u001b[0m\u001b[0minputCol\u001b[0m\u001b[1;33m=\u001b[0m\u001b[1;34m\"Priority\"\u001b[0m\u001b[1;33m,\u001b[0m \u001b[0moutputCol\u001b[0m\u001b[1;33m=\u001b[0m\u001b[1;34m\"Priority_idx\"\u001b[0m\u001b[1;33m)\u001b[0m\u001b[1;33m\u001b[0m\u001b[0m\n",
      "\u001b[1;31mNameError\u001b[0m: name 'reading_mod' is not defined"
     ]
    }
   ],
   "source": [
    "grouped_pr = reading_mod.groupby('Date', 'Priority').agg({'Priority': 'count'})\n",
    "grouped_pr_with_date = grouped_pr.withColumn('Date', change_to_date_func(col('Date')))\n",
    "window_row_pr = Window().partitionBy('Priority').orderBy('Date')\n",
    "grouped_pr_with_date_new = grouped_pr_with_date.withColumn('id', row_number().over(window_row_pr))\n",
    "strindexer = StringIndexer(inputCol=\"Priority\", outputCol=\"Priority_idx\")\n",
    "model_strindexer = strindexer.fit(grouped_pr_with_date_new)\n",
    "grouped_pr_with_date_new_indexed = model_strindexer.transform(grouped_pr_with_date_new)\n",
    "assembler = VectorAssembler(inputCols=[\"id\", \"Priority_idx\"], outputCol=\"features\")\n",
    "grouped_pr_with_date_new_1 = assembler.transform(grouped_pr_with_date_new_indexed)\n",
    "training_pr_df = grouped_pr_with_date_new_1\n",
    "testing_pr_df = grouped_pr_with_date_new_1.where(col('Date') > datetime(2016,4,2))\n",
    "dtpr = DecisionTreeRegressor(maxDepth=3, labelCol=\"count(Priority)\", featuresCol=\"features\")\n",
    "model_dtpr = dtpr.fit(training_pr_df.select('count(Priority)', 'features'))\n",
    "transformed_dtpr = model_dtpr.transform(testing_pr_df)\n",
    "regev_dtpr = RegressionEvaluator(labelCol=\"count(Priority)\")\n",
    "regev_dtpr.evaluate(transformed_dtpr.select(\"count(Priority)\", \"prediction\"), {regev_dtpr.metricName: \"r2\"})"
   ]
  },
  {
   "cell_type": "code",
   "execution_count": null,
   "metadata": {
    "collapsed": false,
    "deletable": true,
    "editable": true
   },
   "outputs": [],
   "source": [
    "transformed_dtpr.show(100)"
   ]
  },
  {
   "cell_type": "code",
   "execution_count": null,
   "metadata": {
    "collapsed": true,
    "deletable": true,
    "editable": true
   },
   "outputs": [],
   "source": []
  },
  {
   "cell_type": "code",
   "execution_count": null,
   "metadata": {
    "collapsed": false,
    "deletable": true,
    "editable": true
   },
   "outputs": [],
   "source": [
    "training_df.show(10)"
   ]
  },
  {
   "cell_type": "code",
   "execution_count": 11,
   "metadata": {
    "collapsed": false,
    "deletable": true,
    "editable": true,
    "scrolled": true
   },
   "outputs": [],
   "source": [
    "last_date = training_df.orderBy('Date').select(last('Date')).collect()[0][0]\n",
    "#prediction_dates = [date(last_date.year, last_date.month + i, 1) for i in xrange(1, 3 + 1)]\n",
    "\n",
    "last_id = training_df.orderBy('id').select(max('id')).collect()[0][0]\n",
    "prediction_ids = list(Row(float(last_id + i), date(last_date.year, last_date.month + i, 1)) for i in range(1, 3 + 1))\n",
    "\n",
    "#prediction_rdd = sc.parallelize(prediction_ids)\n",
    "prediction_df = sqlc.createDataFrame(prediction_ids, ['id', 'Date'])"
   ]
  },
  {
   "cell_type": "code",
   "execution_count": null,
   "metadata": {
    "collapsed": false,
    "deletable": true,
    "editable": true
   },
   "outputs": [],
   "source": [
    "prediction_ids"
   ]
  },
  {
   "cell_type": "code",
   "execution_count": null,
   "metadata": {
    "collapsed": false,
    "deletable": true,
    "editable": true
   },
   "outputs": [],
   "source": [
    "training_df.orderBy('id').select(max('id')).collect()[0][0][0]"
   ]
  },
  {
   "cell_type": "code",
   "execution_count": null,
   "metadata": {
    "collapsed": true,
    "deletable": true,
    "editable": true
   },
   "outputs": [],
   "source": [
    "prediction_df = sqlc.createDataFrame([[14.0], [15.0], [16.0]], ['id'])"
   ]
  },
  {
   "cell_type": "code",
   "execution_count": 12,
   "metadata": {
    "collapsed": false,
    "deletable": true,
    "editable": true
   },
   "outputs": [
    {
     "name": "stdout",
     "output_type": "stream",
     "text": [
      "+------------+\n",
      "|<lambda>(id)|\n",
      "+------------+\n",
      "|      [14.0]|\n",
      "+------------+\n",
      "only showing top 1 row\n",
      "\n"
     ]
    }
   ],
   "source": [
    "prediction_df.select(to_vector(col('id'))).show(1)"
   ]
  },
  {
   "cell_type": "code",
   "execution_count": 1,
   "metadata": {
    "collapsed": false,
    "deletable": true,
    "editable": true
   },
   "outputs": [],
   "source": [
    "from admissions import predict_admissions"
   ]
  },
  {
   "cell_type": "code",
   "execution_count": 2,
   "metadata": {
    "collapsed": false,
    "deletable": true,
    "editable": true,
    "scrolled": false
   },
   "outputs": [],
   "source": [
    "df = predict_admissions('Admissions 2015-16.csv', predict_period=4)"
   ]
  },
  {
   "cell_type": "code",
   "execution_count": 3,
   "metadata": {
    "collapsed": false,
    "deletable": true,
    "editable": true
   },
   "outputs": [
    {
     "name": "stdout",
     "output_type": "stream",
     "text": [
      "+----------+------+----------+\n",
      "|      Date|    id|prediction|\n",
      "+----------+------+----------+\n",
      "|2016-07-01|[14.0]|    2103.0|\n",
      "|2016-08-01|[15.0]|    2103.0|\n",
      "|2016-09-01|[16.0]|    2103.0|\n",
      "+----------+------+----------+\n",
      "\n"
     ]
    }
   ],
   "source": [
    "df.show()"
   ]
  },
  {
   "cell_type": "code",
   "execution_count": 5,
   "metadata": {
    "collapsed": false,
    "deletable": true,
    "editable": true
   },
   "outputs": [
    {
     "ename": "SyntaxError",
     "evalue": "keyword can't be an expression (<ipython-input-5-3831f2340711>, line 1)",
     "output_type": "error",
     "traceback": [
      "\u001b[1;36m  File \u001b[1;32m\"<ipython-input-5-3831f2340711>\"\u001b[1;36m, line \u001b[1;32m1\u001b[0m\n\u001b[1;33m    x = [Row(max(id)=13)]\u001b[0m\n\u001b[1;31mSyntaxError\u001b[0m\u001b[1;31m:\u001b[0m keyword can't be an expression\n"
     ]
    }
   ],
   "source": [
    "x = [Row(max(id)=13)]"
   ]
  },
  {
   "cell_type": "code",
   "execution_count": 4,
   "metadata": {
    "collapsed": true,
    "deletable": true,
    "editable": true
   },
   "outputs": [],
   "source": [
    "all_df = df.collect()"
   ]
  },
  {
   "cell_type": "code",
   "execution_count": 7,
   "metadata": {
    "collapsed": false,
    "deletable": true,
    "editable": true
   },
   "outputs": [
    {
     "data": {
      "text/plain": [
       "3"
      ]
     },
     "execution_count": 7,
     "metadata": {},
     "output_type": "execute_result"
    }
   ],
   "source": [
    "len(all_df)"
   ]
  },
  {
   "cell_type": "code",
   "execution_count": 21,
   "metadata": {
    "collapsed": false,
    "deletable": true,
    "editable": true
   },
   "outputs": [
    {
     "name": "stdout",
     "output_type": "stream",
     "text": [
      "Prediction for 7-2016 is 2103\n",
      "Prediction for 8-2016 is 2103\n",
      "Prediction for 9-2016 is 2103\n"
     ]
    }
   ],
   "source": [
    "for i in xrange(0, len(all_df)):\n",
    "    print \"Prediction for %s-%s is %s\" %(all_df[i]['Date'].month, all_df[i]['Date'].year, str(int(all_df[i]['prediction'])))"
   ]
  },
  {
   "cell_type": "code",
   "execution_count": 19,
   "metadata": {
    "collapsed": false,
    "deletable": true,
    "editable": true
   },
   "outputs": [
    {
     "name": "stdout",
     "output_type": "stream",
     "text": [
      "hi m ms\n"
     ]
    }
   ],
   "source": [
    "val = 'm'\n",
    "print 'hi %s %ss' %(val, val)"
   ]
  },
  {
   "cell_type": "code",
   "execution_count": 9,
   "metadata": {
    "collapsed": true,
    "deletable": true,
    "editable": true
   },
   "outputs": [],
   "source": [
    "sp = training_df.select('Doctor', 'Doctor_idx')"
   ]
  },
  {
   "cell_type": "code",
   "execution_count": 13,
   "metadata": {
    "collapsed": true,
    "deletable": true,
    "editable": true
   },
   "outputs": [],
   "source": [
    "new = prediction_df.join(sp)"
   ]
  },
  {
   "cell_type": "code",
   "execution_count": 15,
   "metadata": {
    "collapsed": false,
    "deletable": true,
    "editable": true
   },
   "outputs": [
    {
     "name": "stdout",
     "output_type": "stream",
     "text": [
      "+----+----------+-----------------+----------+\n",
      "|  id|      Date|           Doctor|Doctor_idx|\n",
      "+----+----------+-----------------+----------+\n",
      "|14.0|2016-07-01|   Nathan Russell|      67.0|\n",
      "|14.0|2016-07-01|   Carol Buckland|      82.0|\n",
      "|14.0|2016-07-01| Connor Churchill|      64.0|\n",
      "|14.0|2016-07-01|        Owen Gill|      45.0|\n",
      "|14.0|2016-07-01|    Neil Rampling|      79.0|\n",
      "|14.0|2016-07-01|   Jason Paterson|      97.0|\n",
      "|14.0|2016-07-01|    Wendy Ellison|       8.0|\n",
      "|14.0|2016-07-01|     Alan Coleman|      76.0|\n",
      "|14.0|2016-07-01|   Brandon Fraser|      85.0|\n",
      "|14.0|2016-07-01|    Sophie Miller|      20.0|\n",
      "|14.0|2016-07-01|    Oliver Greene|     100.0|\n",
      "|14.0|2016-07-01|      Owen Slater|      62.0|\n",
      "|14.0|2016-07-01|     Julia Fisher|      88.0|\n",
      "|14.0|2016-07-01|   Harry Springer|      44.0|\n",
      "|14.0|2016-07-01|     Connor Brown|      41.0|\n",
      "|14.0|2016-07-01|     Charles Bell|      90.0|\n",
      "|14.0|2016-07-01|Alexander Coleman|      63.0|\n",
      "|14.0|2016-07-01|   Blake Campbell|     111.0|\n",
      "|14.0|2016-07-01|     Emma Lambert|      32.0|\n",
      "|14.0|2016-07-01|     Emma Lambert|      32.0|\n",
      "|14.0|2016-07-01|      Gordon King|      68.0|\n",
      "|14.0|2016-07-01|      Colin Lyman|      66.0|\n",
      "|14.0|2016-07-01|       Tim Hunter|      24.0|\n",
      "|14.0|2016-07-01|    Melanie Poole|      75.0|\n",
      "|14.0|2016-07-01|       Lily Short|      69.0|\n",
      "|14.0|2016-07-01|        Jake Hill|      47.0|\n",
      "|14.0|2016-07-01|        Sam Allan|      17.0|\n",
      "|14.0|2016-07-01|     Julia Fisher|      88.0|\n",
      "|14.0|2016-07-01|      Owen Slater|      62.0|\n",
      "|14.0|2016-07-01|      Owen Slater|      62.0|\n",
      "|14.0|2016-07-01|     Connor Brown|      41.0|\n",
      "|14.0|2016-07-01|       Ryan Alsop|      49.0|\n",
      "|14.0|2016-07-01|    Oliver Duncan|       4.0|\n",
      "|14.0|2016-07-01|   William Davies|     148.0|\n",
      "|14.0|2016-07-01|     Trevor Allan|      98.0|\n",
      "|14.0|2016-07-01|  Joseph Morrison|      78.0|\n",
      "|14.0|2016-07-01|  Alexander Clark|     115.0|\n",
      "|14.0|2016-07-01|       Wanda Hill|      81.0|\n",
      "|14.0|2016-07-01|    Neil Rampling|      79.0|\n",
      "|14.0|2016-07-01|  Vanessa Pullman|       5.0|\n",
      "|14.0|2016-07-01|     Alan Coleman|      76.0|\n",
      "|14.0|2016-07-01|   Stewart Arnold|      19.0|\n",
      "|14.0|2016-07-01|       Sam Slater|       9.0|\n",
      "|14.0|2016-07-01|      Boris Clark|     120.0|\n",
      "|14.0|2016-07-01|   Sonia Marshall|      38.0|\n",
      "|14.0|2016-07-01| Connor Churchill|      64.0|\n",
      "|14.0|2016-07-01|      Matt Turner|      55.0|\n",
      "|14.0|2016-07-01|   Sally Morrison|      65.0|\n",
      "|14.0|2016-07-01|        Leah Reid|      37.0|\n",
      "|14.0|2016-07-01|    Piers Stewart|      73.0|\n",
      "|14.0|2016-07-01|    Phil Clarkson|      96.0|\n",
      "|14.0|2016-07-01|      Owen Slater|      62.0|\n",
      "|14.0|2016-07-01|       Tim Hunter|      24.0|\n",
      "|14.0|2016-07-01|     Alan Coleman|      76.0|\n",
      "|14.0|2016-07-01|     Rachel Brown|      16.0|\n",
      "|14.0|2016-07-01|    Amanda Gibson|      46.0|\n",
      "|14.0|2016-07-01|    Oliver Duncan|       4.0|\n",
      "|14.0|2016-07-01|      Grace Jones|     133.0|\n",
      "|14.0|2016-07-01|  Alexander Clark|     115.0|\n",
      "|14.0|2016-07-01|  Bernadette Rees|      30.0|\n",
      "|14.0|2016-07-01|    Oliver Peters|     173.0|\n",
      "|14.0|2016-07-01|     Donna Powell|      74.0|\n",
      "|14.0|2016-07-01|   Nathan Russell|      67.0|\n",
      "|14.0|2016-07-01|       Wanda Hill|      81.0|\n",
      "|14.0|2016-07-01|   Anthony Bailey|      93.0|\n",
      "|14.0|2016-07-01|  Lily Rutherford|      10.0|\n",
      "|14.0|2016-07-01|    Piers Stewart|      73.0|\n",
      "|14.0|2016-07-01|   Sonia Marshall|      38.0|\n",
      "|14.0|2016-07-01|         Ian Rees|     103.0|\n",
      "|14.0|2016-07-01|   Sonia Marshall|      38.0|\n",
      "|14.0|2016-07-01|Olivia Rutherford|      31.0|\n",
      "|14.0|2016-07-01|  Lily Rutherford|      10.0|\n",
      "|14.0|2016-07-01|     Lisa Cornish|      91.0|\n",
      "|14.0|2016-07-01|       Wanda Hill|      81.0|\n",
      "|14.0|2016-07-01|    Neil Rampling|      79.0|\n",
      "|14.0|2016-07-01|    Melanie Poole|      75.0|\n",
      "|14.0|2016-07-01| Connor Churchill|      64.0|\n",
      "|14.0|2016-07-01|  Victor Hardacre|      95.0|\n",
      "|14.0|2016-07-01|     Dylan Gibson|      34.0|\n",
      "|14.0|2016-07-01|    Bella Pullman|      27.0|\n",
      "|14.0|2016-07-01|    Angela Davies|      18.0|\n",
      "|14.0|2016-07-01|     Lisa Cornish|      91.0|\n",
      "|14.0|2016-07-01|  Lily Rutherford|      10.0|\n",
      "|14.0|2016-07-01|     Dylan Gibson|      34.0|\n",
      "|14.0|2016-07-01|   Christian Gray|       1.0|\n",
      "|14.0|2016-07-01|      Alan Martin|      33.0|\n",
      "|14.0|2016-07-01|      Carol Scott|      80.0|\n",
      "|14.0|2016-07-01|    Mary Marshall|      39.0|\n",
      "|14.0|2016-07-01|         Ava Kerr|      43.0|\n",
      "|14.0|2016-07-01|      Joan Morgan|      53.0|\n",
      "|14.0|2016-07-01|   Heather Greene|      71.0|\n",
      "|14.0|2016-07-01|      Joan Morgan|      53.0|\n",
      "|14.0|2016-07-01|    Bella Pullman|      27.0|\n",
      "|14.0|2016-07-01|    Lisa Buckland|     108.0|\n",
      "|14.0|2016-07-01|    Frank Stewart|      42.0|\n",
      "|14.0|2016-07-01|Leonard Robertson|      60.0|\n",
      "|14.0|2016-07-01|  Sarah Mackenzie|      59.0|\n",
      "|14.0|2016-07-01|      Sue Wilkins|     107.0|\n",
      "|14.0|2016-07-01|      Amanda Rees|      54.0|\n",
      "|14.0|2016-07-01|     Rachel Brown|      16.0|\n",
      "+----+----------+-----------------+----------+\n",
      "only showing top 100 rows\n",
      "\n"
     ]
    }
   ],
   "source": [
    "new.show(100)"
   ]
  },
  {
   "cell_type": "code",
   "execution_count": null,
   "metadata": {
    "collapsed": true,
    "deletable": true,
    "editable": true
   },
   "outputs": [],
   "source": []
  }
 ],
 "metadata": {
  "kernelspec": {
   "display_name": "Python 2",
   "language": "python",
   "name": "python2"
  },
  "language_info": {
   "codemirror_mode": {
    "name": "ipython",
    "version": 2
   },
   "file_extension": ".py",
   "mimetype": "text/x-python",
   "name": "python",
   "nbconvert_exporter": "python",
   "pygments_lexer": "ipython2",
   "version": "2.7.12"
  }
 },
 "nbformat": 4,
 "nbformat_minor": 0
}
