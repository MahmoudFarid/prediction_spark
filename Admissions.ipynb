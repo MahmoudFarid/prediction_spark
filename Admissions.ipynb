{
 "cells": [
  {
   "cell_type": "code",
   "execution_count": 77,
   "metadata": {
    "collapsed": false,
    "deletable": true,
    "editable": true
   },
   "outputs": [],
   "source": [
    "from pyspark import SparkContext\n",
    "from pyspark.sql import SparkSession\n",
    "from pyspark.sql.functions import col, udf, split, row_number\n",
    "from pyspark.sql.window import Window\n",
    "from pyspark.sql.types import DateType, StringType, IntegerType\n",
    "from pyspark.ml.regression import LinearRegression, DecisionTreeRegressor, IsotonicRegression, RandomForestRegressor\n",
    "from pyspark.ml.linalg import Vectors, DenseVector, VectorUDT\n",
    "from pyspark.ml.feature import OneHotEncoder, StringIndexer, VectorAssembler\n",
    "from pyspark.ml.evaluation import RegressionEvaluator\n",
    "from pyspark.ml.tuning import ParamGridBuilder, CrossValidator"
   ]
  },
  {
   "cell_type": "code",
   "execution_count": 7,
   "metadata": {
    "collapsed": true,
    "deletable": true,
    "editable": true
   },
   "outputs": [],
   "source": [
    "from datetime import datetime"
   ]
  },
  {
   "cell_type": "code",
   "execution_count": 2,
   "metadata": {
    "collapsed": false,
    "deletable": true,
    "editable": true
   },
   "outputs": [],
   "source": [
    "sc = SparkContext()\n",
    "sqlc = SparkSession(sc)"
   ]
  },
  {
   "cell_type": "code",
   "execution_count": 13,
   "metadata": {
    "collapsed": false,
    "deletable": true,
    "editable": true
   },
   "outputs": [],
   "source": [
    "change_to_month_func = udf(lambda record: int(datetime.strftime(datetime.strptime(record, '%d/%m/%Y'), '%Y%m')), IntegerType())\n",
    "change_to_date_func = udf(lambda record: datetime.strptime(str(record), '%Y%m'), DateType())\n",
    "to_vector = udf(lambda record: Vectors.dense(record), VectorUDT())\n",
    "to_vectors = udf(lambda col_a, col_b: Vectors.sparse(col_a, col_b))"
   ]
  },
  {
   "cell_type": "code",
   "execution_count": 14,
   "metadata": {
    "collapsed": false,
    "deletable": true,
    "editable": true
   },
   "outputs": [],
   "source": [
    "reading = sqlc.read.csv('Admissions 2015-16.csv', header=True)\n",
    "reading_mod = reading.withColumn('Date', change_to_month_func(col('Removal Date'))).drop('Removal Date'\n",
    "                                        ).withColumnRenamed('count(Removal Date)', 'patients_removed')"
   ]
  },
  {
   "cell_type": "code",
   "execution_count": 38,
   "metadata": {
    "collapsed": false,
    "deletable": true,
    "editable": true
   },
   "outputs": [
    {
     "name": "stdout",
     "output_type": "stream",
     "text": [
      "+--------+---------------+-----------+-------------+--------------+--------+------------+------+\n",
      "|Hospital|      Specialty|  Procedure|       Doctor|Patient Number|Priority|Waiting Days|  Date|\n",
      "+--------+---------------+-----------+-------------+--------------+--------+------------+------+\n",
      "|     Mel|General Surgery|Lap Banding|Joseph Miller|     111365825|       C|        3396|201508|\n",
      "|     Mel|General Surgery|Lap Banding|Joseph Miller|     109970143|       C|        3356|201507|\n",
      "|     Mel|General Surgery|Lap Banding|Joseph Miller|     106770523|       C|        3244|201508|\n",
      "|     Mel|General Surgery|Lap Banding|Joseph Miller|     111176864|       C|        3229|201508|\n",
      "|     Mel|General Surgery|Lap Banding|Joseph Miller|     107085813|       C|        3190|201508|\n",
      "+--------+---------------+-----------+-------------+--------------+--------+------------+------+\n",
      "only showing top 5 rows\n",
      "\n"
     ]
    }
   ],
   "source": [
    "reading_mod.show(5)"
   ]
  },
  {
   "cell_type": "code",
   "execution_count": null,
   "metadata": {
    "collapsed": false,
    "deletable": true,
    "editable": true
   },
   "outputs": [],
   "source": []
  },
  {
   "cell_type": "code",
   "execution_count": 15,
   "metadata": {
    "collapsed": true,
    "deletable": true,
    "editable": true
   },
   "outputs": [],
   "source": [
    "grouped = reading_mod.groupby('Date').agg({'Date': 'count'})\n",
    "grouped_with_date = grouped.withColumn('Date', change_to_date_func(col('Date')))\n",
    "window_row = Window().orderBy('Date')\n",
    "grouped_new = grouped_with_date.withColumn('id', row_number().over(window_row))"
   ]
  },
  {
   "cell_type": "code",
   "execution_count": null,
   "metadata": {
    "collapsed": false,
    "deletable": true,
    "editable": true
   },
   "outputs": [],
   "source": []
  },
  {
   "cell_type": "code",
   "execution_count": 16,
   "metadata": {
    "collapsed": false,
    "deletable": true,
    "editable": true
   },
   "outputs": [],
   "source": [
    "grouped_new_1 = grouped_new.withColumn('id', to_vector(col('id')))\n",
    "testing_df = grouped_new_1.where(col('Date') > datetime(2016,4,2))\n",
    "training_df = grouped_new_1.filter(col('Date') < datetime(2016,6,2))"
   ]
  },
  {
   "cell_type": "code",
   "execution_count": null,
   "metadata": {
    "collapsed": true,
    "deletable": true,
    "editable": true
   },
   "outputs": [],
   "source": [
    "lr = LinearRegression(maxIter=100, regParam=0.01, elasticNetParam = 1.0, labelCol=\"count(Date)\", featuresCol=\"id\")\n",
    "model_lr = lr.fit(training_df.select('count(Date)', 'id'))\n",
    "model_lr.coefficients\n",
    "transformed_lr = model_lr.transform(testing_df)"
   ]
  },
  {
   "cell_type": "code",
   "execution_count": null,
   "metadata": {
    "collapsed": true,
    "deletable": true,
    "editable": true
   },
   "outputs": [],
   "source": []
  },
  {
   "cell_type": "code",
   "execution_count": 18,
   "metadata": {
    "collapsed": false,
    "deletable": true,
    "editable": true
   },
   "outputs": [],
   "source": [
    "dt = DecisionTreeRegressor(maxDepth=3, labelCol=\"count(Date)\", featuresCol=\"id\")\n",
    "model_dt = dt.fit(training_df.select('count(Date)', 'id'))\n",
    "transformed_dt = model_dt.transform(testing_df)"
   ]
  },
  {
   "cell_type": "code",
   "execution_count": 81,
   "metadata": {
    "collapsed": false
   },
   "outputs": [
    {
     "data": {
      "text/plain": [
       "295.0"
      ]
     },
     "execution_count": 81,
     "metadata": {},
     "output_type": "execute_result"
    }
   ],
   "source": [
    "dt = DecisionTreeRegressor()\n",
    "params = ParamGridBuilder().baseOn({dt.labelCol: \"count(Date)\"}).baseOn({dt.featuresCol: \"id\"}).addGrid(\n",
    "                                    dt.maxDepth, [3, 5, 7]).build()\n",
    "regev_dt = RegressionEvaluator(labelCol='count(Date)')\n",
    "# regev_dtk.evaluate(transformed_dtk.select(\"count(Date)\", \"prediction\"), {regev_dtk.metricName: \"mae\"})\n",
    "cv = CrossValidator(estimator=dt, estimatorParamMaps=params, evaluator=regev_dt)\n",
    "cv_model = cv.fit(training_df.select('count(Date)', 'id'))\n",
    "transformed_dt_cv = cv_model.transform(testing_df)\n",
    "regev_dt.evaluate(transformed_dt_cv, {regev_dt.metricName: \"mae\"})"
   ]
  },
  {
   "cell_type": "code",
   "execution_count": null,
   "metadata": {
    "collapsed": false,
    "deletable": true,
    "editable": true
   },
   "outputs": [],
   "source": [
    "training_df.rdd.max"
   ]
  },
  {
   "cell_type": "code",
   "execution_count": null,
   "metadata": {
    "collapsed": true,
    "deletable": true,
    "editable": true
   },
   "outputs": [],
   "source": [
    "iso = IsotonicRegression(labelCol=\"count(Date)\", featuresCol=\"id\")\n",
    "model_iso = iso.fit(training_df.select(\"count(Date)\", \"id\"))\n",
    "transformed_iso = model_iso.transform(testing_df)"
   ]
  },
  {
   "cell_type": "code",
   "execution_count": null,
   "metadata": {
    "collapsed": false,
    "deletable": true,
    "editable": true
   },
   "outputs": [],
   "source": []
  },
  {
   "cell_type": "code",
   "execution_count": 21,
   "metadata": {
    "collapsed": false,
    "deletable": true,
    "editable": true
   },
   "outputs": [
    {
     "name": "stdout",
     "output_type": "stream",
     "text": [
      "+----------+-----------+------+------------------+\n",
      "|      Date|count(Date)|    id|        prediction|\n",
      "+----------+-----------+------+------------------+\n",
      "|2016-05-01|       2200|[12.0]|2135.3333333333335|\n",
      "|2016-06-01|       2006|[13.0]|2070.6666666666665|\n",
      "+----------+-----------+------+------------------+\n",
      "\n"
     ]
    }
   ],
   "source": [
    "rf = RandomForestRegressor(numTrees=3, maxDepth=5,labelCol=\"count(Date)\", featuresCol=\"id\")\n",
    "model_rf = rf.fit(training_df.select(\"count(Date)\", \"id\"))\n",
    "transformed_rd = model_rf.transform(testing_df)\n",
    "transformed_rd.show(10)"
   ]
  },
  {
   "cell_type": "code",
   "execution_count": null,
   "metadata": {
    "collapsed": true,
    "deletable": true,
    "editable": true
   },
   "outputs": [],
   "source": []
  },
  {
   "cell_type": "code",
   "execution_count": null,
   "metadata": {
    "collapsed": true,
    "deletable": true,
    "editable": true
   },
   "outputs": [],
   "source": []
  },
  {
   "cell_type": "code",
   "execution_count": 23,
   "metadata": {
    "collapsed": true,
    "deletable": true,
    "editable": true
   },
   "outputs": [],
   "source": [
    "grouped_doctor = reading_mod.groupby('Date', 'Doctor').agg({'Doctor': 'count'})\n",
    "grouped_doctor_with_date = grouped_doctor.withColumn('Date', change_to_date_func(col('Date')))\n",
    "window_row_doctor = Window().partitionBy('Doctor').orderBy('Date')\n",
    "grouped_doctor_with_date_new = grouped_doctor_with_date.withColumn('id', row_number().over(window_row_doctor))"
   ]
  },
  {
   "cell_type": "code",
   "execution_count": 24,
   "metadata": {
    "collapsed": false,
    "deletable": true,
    "editable": true
   },
   "outputs": [],
   "source": [
    "strindexer = StringIndexer(inputCol=\"Doctor\", outputCol=\"Doctor_idx\")\n",
    "model_strindexer = strindexer.fit(grouped_doctor_with_date_new)\n",
    "grouped_doctor_with_date_new_indexed = model_strindexer.transform(grouped_doctor_with_date_new)\n",
    "assembler = VectorAssembler(inputCols=[\"id\", \"Doctor_idx\"], outputCol=\"features\")\n",
    "grouped_doctor_with_date_new_1 = assembler.transform(grouped_doctor_with_date_new_indexed)"
   ]
  },
  {
   "cell_type": "code",
   "execution_count": null,
   "metadata": {
    "collapsed": true,
    "deletable": true,
    "editable": true
   },
   "outputs": [],
   "source": [
    "training_df = grouped_doctor_with_date_new_1\n",
    "testing_df = grouped_doctor_with_date_new_1.where(col('Date') > datetime(2016,4,2))"
   ]
  },
  {
   "cell_type": "code",
   "execution_count": null,
   "metadata": {
    "collapsed": false,
    "deletable": true,
    "editable": true
   },
   "outputs": [],
   "source": [
    "lrd = LinearRegression(maxIter=1000, regParam=0.01, elasticNetParam=0.0, labelCol=\"count(Doctor)\", featuresCol=\"features\")\n",
    "model_lrd = lrd.fit(training_df.select(\"features\", \"count(Doctor)\"))\n",
    "transformed_lrd = model_lrd.transform(testing_df)"
   ]
  },
  {
   "cell_type": "code",
   "execution_count": null,
   "metadata": {
    "collapsed": false,
    "deletable": true,
    "editable": true
   },
   "outputs": [],
   "source": [
    "regev = RegressionEvaluator(labelCol=\"count(Doctor)\")\n",
    "regev.evaluate(transformed_lrd.select(\"count(Doctor)\", \"prediction\"), {regev.metricName: \"mae\"})"
   ]
  },
  {
   "cell_type": "code",
   "execution_count": null,
   "metadata": {
    "collapsed": false,
    "deletable": true,
    "editable": true
   },
   "outputs": [],
   "source": []
  },
  {
   "cell_type": "code",
   "execution_count": null,
   "metadata": {
    "collapsed": true,
    "deletable": true,
    "editable": true
   },
   "outputs": [],
   "source": [
    "isod = IsotonicRegression(labelCol=\"count(Doctor)\", featuresCol=\"features\")\n",
    "model_isod = isod.fit(training_df.select(\"features\", \"count(Doctor)\"))\n",
    "transformed_isod = model_isod.transform(testing_df)\n",
    "transformed_isod.show(100)"
   ]
  },
  {
   "cell_type": "code",
   "execution_count": null,
   "metadata": {
    "collapsed": true,
    "deletable": true,
    "editable": true
   },
   "outputs": [],
   "source": []
  },
  {
   "cell_type": "code",
   "execution_count": null,
   "metadata": {
    "collapsed": false,
    "deletable": true,
    "editable": true
   },
   "outputs": [],
   "source": [
    "grouped_doctor_with_date_new_1.show(10)"
   ]
  },
  {
   "cell_type": "code",
   "execution_count": 23,
   "metadata": {
    "collapsed": true,
    "deletable": true,
    "editable": true
   },
   "outputs": [
    {
     "ename": "IllegalArgumentException",
     "evalue": "u'requirement failed: DecisionTree requires maxBins (= 26) to be at least as large as the number of values in each categorical feature, but categorical feature 1 has 178 values. Considering remove this and other categorical features with a large number of values, or add more training examples.'",
     "output_type": "error",
     "traceback": [
      "\u001b[1;31m---------------------------------------------------------------------------\u001b[0m",
      "\u001b[1;31mIllegalArgumentException\u001b[0m                  Traceback (most recent call last)",
      "\u001b[1;32m<ipython-input-23-ef510ec00088>\u001b[0m in \u001b[0;36m<module>\u001b[1;34m()\u001b[0m\n\u001b[0;32m      4\u001b[0m         ).where(col('Doctor_idx') < 2.0)\n\u001b[0;32m      5\u001b[0m \u001b[0mdtk\u001b[0m \u001b[1;33m=\u001b[0m \u001b[0mDecisionTreeRegressor\u001b[0m\u001b[1;33m(\u001b[0m\u001b[0mmaxDepth\u001b[0m\u001b[1;33m=\u001b[0m\u001b[1;36m32\u001b[0m\u001b[1;33m,\u001b[0m \u001b[0mlabelCol\u001b[0m\u001b[1;33m=\u001b[0m\u001b[1;34m\"count(Doctor)\"\u001b[0m\u001b[1;33m,\u001b[0m \u001b[0mfeaturesCol\u001b[0m\u001b[1;33m=\u001b[0m\u001b[1;34m\"features\"\u001b[0m\u001b[1;33m)\u001b[0m\u001b[1;33m\u001b[0m\u001b[0m\n\u001b[1;32m----> 6\u001b[1;33m \u001b[0mmodel_dtk\u001b[0m \u001b[1;33m=\u001b[0m \u001b[0mdtk\u001b[0m\u001b[1;33m.\u001b[0m\u001b[0mfit\u001b[0m\u001b[1;33m(\u001b[0m\u001b[0mtr\u001b[0m\u001b[1;33m)\u001b[0m\u001b[1;33m\u001b[0m\u001b[0m\n\u001b[0m\u001b[0;32m      7\u001b[0m \u001b[0mtransformed_dtk\u001b[0m \u001b[1;33m=\u001b[0m \u001b[0mmodel_dtk\u001b[0m\u001b[1;33m.\u001b[0m\u001b[0mtransform\u001b[0m\u001b[1;33m(\u001b[0m\u001b[0mte\u001b[0m\u001b[1;33m)\u001b[0m\u001b[1;33m\u001b[0m\u001b[0m\n",
      "\u001b[1;32m/usr/local/spark/python/pyspark/ml/base.py\u001b[0m in \u001b[0;36mfit\u001b[1;34m(self, dataset, params)\u001b[0m\n\u001b[0;32m     62\u001b[0m                 \u001b[1;32mreturn\u001b[0m \u001b[0mself\u001b[0m\u001b[1;33m.\u001b[0m\u001b[0mcopy\u001b[0m\u001b[1;33m(\u001b[0m\u001b[0mparams\u001b[0m\u001b[1;33m)\u001b[0m\u001b[1;33m.\u001b[0m\u001b[0m_fit\u001b[0m\u001b[1;33m(\u001b[0m\u001b[0mdataset\u001b[0m\u001b[1;33m)\u001b[0m\u001b[1;33m\u001b[0m\u001b[0m\n\u001b[0;32m     63\u001b[0m             \u001b[1;32melse\u001b[0m\u001b[1;33m:\u001b[0m\u001b[1;33m\u001b[0m\u001b[0m\n\u001b[1;32m---> 64\u001b[1;33m                 \u001b[1;32mreturn\u001b[0m \u001b[0mself\u001b[0m\u001b[1;33m.\u001b[0m\u001b[0m_fit\u001b[0m\u001b[1;33m(\u001b[0m\u001b[0mdataset\u001b[0m\u001b[1;33m)\u001b[0m\u001b[1;33m\u001b[0m\u001b[0m\n\u001b[0m\u001b[0;32m     65\u001b[0m         \u001b[1;32melse\u001b[0m\u001b[1;33m:\u001b[0m\u001b[1;33m\u001b[0m\u001b[0m\n\u001b[0;32m     66\u001b[0m             raise ValueError(\"Params must be either a param map or a list/tuple of param maps, \"\n",
      "\u001b[1;32m/usr/local/spark/python/pyspark/ml/wrapper.py\u001b[0m in \u001b[0;36m_fit\u001b[1;34m(self, dataset)\u001b[0m\n\u001b[0;32m    211\u001b[0m \u001b[1;33m\u001b[0m\u001b[0m\n\u001b[0;32m    212\u001b[0m     \u001b[1;32mdef\u001b[0m \u001b[0m_fit\u001b[0m\u001b[1;33m(\u001b[0m\u001b[0mself\u001b[0m\u001b[1;33m,\u001b[0m \u001b[0mdataset\u001b[0m\u001b[1;33m)\u001b[0m\u001b[1;33m:\u001b[0m\u001b[1;33m\u001b[0m\u001b[0m\n\u001b[1;32m--> 213\u001b[1;33m         \u001b[0mjava_model\u001b[0m \u001b[1;33m=\u001b[0m \u001b[0mself\u001b[0m\u001b[1;33m.\u001b[0m\u001b[0m_fit_java\u001b[0m\u001b[1;33m(\u001b[0m\u001b[0mdataset\u001b[0m\u001b[1;33m)\u001b[0m\u001b[1;33m\u001b[0m\u001b[0m\n\u001b[0m\u001b[0;32m    214\u001b[0m         \u001b[1;32mreturn\u001b[0m \u001b[0mself\u001b[0m\u001b[1;33m.\u001b[0m\u001b[0m_create_model\u001b[0m\u001b[1;33m(\u001b[0m\u001b[0mjava_model\u001b[0m\u001b[1;33m)\u001b[0m\u001b[1;33m\u001b[0m\u001b[0m\n\u001b[0;32m    215\u001b[0m \u001b[1;33m\u001b[0m\u001b[0m\n",
      "\u001b[1;32m/usr/local/spark/python/pyspark/ml/wrapper.py\u001b[0m in \u001b[0;36m_fit_java\u001b[1;34m(self, dataset)\u001b[0m\n\u001b[0;32m    208\u001b[0m         \"\"\"\n\u001b[0;32m    209\u001b[0m         \u001b[0mself\u001b[0m\u001b[1;33m.\u001b[0m\u001b[0m_transfer_params_to_java\u001b[0m\u001b[1;33m(\u001b[0m\u001b[1;33m)\u001b[0m\u001b[1;33m\u001b[0m\u001b[0m\n\u001b[1;32m--> 210\u001b[1;33m         \u001b[1;32mreturn\u001b[0m \u001b[0mself\u001b[0m\u001b[1;33m.\u001b[0m\u001b[0m_java_obj\u001b[0m\u001b[1;33m.\u001b[0m\u001b[0mfit\u001b[0m\u001b[1;33m(\u001b[0m\u001b[0mdataset\u001b[0m\u001b[1;33m.\u001b[0m\u001b[0m_jdf\u001b[0m\u001b[1;33m)\u001b[0m\u001b[1;33m\u001b[0m\u001b[0m\n\u001b[0m\u001b[0;32m    211\u001b[0m \u001b[1;33m\u001b[0m\u001b[0m\n\u001b[0;32m    212\u001b[0m     \u001b[1;32mdef\u001b[0m \u001b[0m_fit\u001b[0m\u001b[1;33m(\u001b[0m\u001b[0mself\u001b[0m\u001b[1;33m,\u001b[0m \u001b[0mdataset\u001b[0m\u001b[1;33m)\u001b[0m\u001b[1;33m:\u001b[0m\u001b[1;33m\u001b[0m\u001b[0m\n",
      "\u001b[1;32m/usr/local/spark/python/lib/py4j-0.10.3-src.zip/py4j/java_gateway.py\u001b[0m in \u001b[0;36m__call__\u001b[1;34m(self, *args)\u001b[0m\n\u001b[0;32m   1131\u001b[0m         \u001b[0manswer\u001b[0m \u001b[1;33m=\u001b[0m \u001b[0mself\u001b[0m\u001b[1;33m.\u001b[0m\u001b[0mgateway_client\u001b[0m\u001b[1;33m.\u001b[0m\u001b[0msend_command\u001b[0m\u001b[1;33m(\u001b[0m\u001b[0mcommand\u001b[0m\u001b[1;33m)\u001b[0m\u001b[1;33m\u001b[0m\u001b[0m\n\u001b[0;32m   1132\u001b[0m         return_value = get_return_value(\n\u001b[1;32m-> 1133\u001b[1;33m             answer, self.gateway_client, self.target_id, self.name)\n\u001b[0m\u001b[0;32m   1134\u001b[0m \u001b[1;33m\u001b[0m\u001b[0m\n\u001b[0;32m   1135\u001b[0m         \u001b[1;32mfor\u001b[0m \u001b[0mtemp_arg\u001b[0m \u001b[1;32min\u001b[0m \u001b[0mtemp_args\u001b[0m\u001b[1;33m:\u001b[0m\u001b[1;33m\u001b[0m\u001b[0m\n",
      "\u001b[1;32m/usr/local/spark/python/pyspark/sql/utils.py\u001b[0m in \u001b[0;36mdeco\u001b[1;34m(*a, **kw)\u001b[0m\n\u001b[0;32m     77\u001b[0m                 \u001b[1;32mraise\u001b[0m \u001b[0mQueryExecutionException\u001b[0m\u001b[1;33m(\u001b[0m\u001b[0ms\u001b[0m\u001b[1;33m.\u001b[0m\u001b[0msplit\u001b[0m\u001b[1;33m(\u001b[0m\u001b[1;34m': '\u001b[0m\u001b[1;33m,\u001b[0m \u001b[1;36m1\u001b[0m\u001b[1;33m)\u001b[0m\u001b[1;33m[\u001b[0m\u001b[1;36m1\u001b[0m\u001b[1;33m]\u001b[0m\u001b[1;33m,\u001b[0m \u001b[0mstackTrace\u001b[0m\u001b[1;33m)\u001b[0m\u001b[1;33m\u001b[0m\u001b[0m\n\u001b[0;32m     78\u001b[0m             \u001b[1;32mif\u001b[0m \u001b[0ms\u001b[0m\u001b[1;33m.\u001b[0m\u001b[0mstartswith\u001b[0m\u001b[1;33m(\u001b[0m\u001b[1;34m'java.lang.IllegalArgumentException: '\u001b[0m\u001b[1;33m)\u001b[0m\u001b[1;33m:\u001b[0m\u001b[1;33m\u001b[0m\u001b[0m\n\u001b[1;32m---> 79\u001b[1;33m                 \u001b[1;32mraise\u001b[0m \u001b[0mIllegalArgumentException\u001b[0m\u001b[1;33m(\u001b[0m\u001b[0ms\u001b[0m\u001b[1;33m.\u001b[0m\u001b[0msplit\u001b[0m\u001b[1;33m(\u001b[0m\u001b[1;34m': '\u001b[0m\u001b[1;33m,\u001b[0m \u001b[1;36m1\u001b[0m\u001b[1;33m)\u001b[0m\u001b[1;33m[\u001b[0m\u001b[1;36m1\u001b[0m\u001b[1;33m]\u001b[0m\u001b[1;33m,\u001b[0m \u001b[0mstackTrace\u001b[0m\u001b[1;33m)\u001b[0m\u001b[1;33m\u001b[0m\u001b[0m\n\u001b[0m\u001b[0;32m     80\u001b[0m             \u001b[1;32mraise\u001b[0m\u001b[1;33m\u001b[0m\u001b[0m\n\u001b[0;32m     81\u001b[0m     \u001b[1;32mreturn\u001b[0m \u001b[0mdeco\u001b[0m\u001b[1;33m\u001b[0m\u001b[0m\n",
      "\u001b[1;31mIllegalArgumentException\u001b[0m: u'requirement failed: DecisionTree requires maxBins (= 26) to be at least as large as the number of values in each categorical feature, but categorical feature 1 has 178 values. Considering remove this and other categorical features with a large number of values, or add more training examples.'"
     ]
    }
   ],
   "source": [
    "tr = grouped_doctor_with_date_new_1.where(col('Doctor_idx') >= 0.0).where(col(\n",
    "        'Doctor_idx') < 2.0)\n",
    "te = grouped_doctor_with_date_new_1.where(col('Date') > datetime(2016,4,2)).where(col('Doctor_idx') >= 0.0\n",
    "        ).where(col('Doctor_idx') < 2.0)\n",
    "dtk = DecisionTreeRegressor(maxDepth=32, labelCol=\"count(Doctor)\", featuresCol=\"features\")\n",
    "model_dtk = dtk.fit(tr)\n",
    "transformed_dtk = model_dtk.transform(te)"
   ]
  },
  {
   "cell_type": "code",
   "execution_count": null,
   "metadata": {
    "collapsed": true,
    "deletable": true,
    "editable": true
   },
   "outputs": [],
   "source": []
  },
  {
   "cell_type": "code",
   "execution_count": 76,
   "metadata": {
    "collapsed": false,
    "deletable": true,
    "editable": true
   },
   "outputs": [
    {
     "data": {
      "text/plain": [
       "8.921920050544317"
      ]
     },
     "execution_count": 76,
     "metadata": {},
     "output_type": "execute_result"
    }
   ],
   "source": [
    "#max_val_doctor = grouped_doctor_with_date_new_1.select('Doctor_idx').rdd.max()[0]\n",
    "\n",
    "training_doctor_df = grouped_doctor_with_date_new_1.where(col('Date') < datetime(2016,4,2))\n",
    "testing_doctor_df = grouped_doctor_with_date_new_1.where(col('Date') > datetime(2016,4,2))\n",
    "\n",
    "\n",
    "dtk = DecisionTreeRegressor(maxDepth=3, labelCol=\"count(Doctor)\", featuresCol=\"features\", maxBins=178)\n",
    "model_dtk = dtk.fit(training_doctor_df)\n",
    "transformed_dtk = model_dtk.transform(testing_doctor_df)\n",
    "regev_dtk = RegressionEvaluator(labelCol=\"count(Doctor)\")\n",
    "regev_dtk.evaluate(transformed_dtk.select(\"count(Doctor)\", \"prediction\"), {regev_dtk.metricName: \"mae\"})"
   ]
  },
  {
   "cell_type": "code",
   "execution_count": 31,
   "metadata": {
    "collapsed": true,
    "deletable": true,
    "editable": true
   },
   "outputs": [
    {
     "name": "stdout",
     "output_type": "stream",
     "text": [
      "+----------+------------------+-------------+---+----------+-----------+------------------+\n",
      "|      Date|            Doctor|count(Doctor)| id|Doctor_idx|   features|        prediction|\n",
      "+----------+------------------+-------------+---+----------+-----------+------------------+\n",
      "|2016-05-01|        Sam Slater|            4| 12|       9.0| [12.0,9.0]|3.0526315789473686|\n",
      "|2016-06-01|        Sam Slater|            4| 13|       9.0| [13.0,9.0]|3.0526315789473686|\n",
      "|2016-05-01| Alexander Skinner|           38| 12|      11.0|[12.0,11.0]|16.761904761904763|\n",
      "|2016-06-01| Alexander Skinner|           32| 13|      11.0|[13.0,11.0]|16.761904761904763|\n",
      "|2016-05-01|    Sally Morrison|           13| 11|      65.0|[11.0,65.0]|16.761904761904763|\n",
      "|2016-06-01|    Sally Morrison|           22| 12|      65.0|[12.0,65.0]|16.761904761904763|\n",
      "|2016-06-01|    Brandon Fraser|            1| 11|      85.0|[11.0,85.0]|3.0526315789473686|\n",
      "|2016-05-01|       Joseph Ince|            1|  1|     177.0|[1.0,177.0]| 37.05714285714286|\n",
      "|2016-05-01|        Wanda Hill|           25| 10|      81.0|[10.0,81.0]| 12.19047619047619|\n",
      "|2016-06-01|        Wanda Hill|           13| 11|      81.0|[11.0,81.0]| 12.19047619047619|\n",
      "|2016-05-01|    Bella Hamilton|           16| 11|      70.0|[11.0,70.0]| 7.053459119496855|\n",
      "|2016-06-01|    Bella Hamilton|            9| 12|      70.0|[12.0,70.0]| 7.053459119496855|\n",
      "|2016-05-01|     Kylie Simpson|            7| 10|      83.0|[10.0,83.0]|3.0526315789473686|\n",
      "|2016-06-01|     Kylie Simpson|            1| 11|      83.0|[11.0,83.0]|3.0526315789473686|\n",
      "|2016-05-01|     Joseph Hodges|            2|  3|     122.0|[3.0,122.0]|3.0526315789473686|\n",
      "|2016-06-01|     Joseph Hodges|            6|  4|     122.0|[4.0,122.0]|3.0526315789473686|\n",
      "|2016-05-01|   Joseph Morrison|            2| 11|      78.0|[11.0,78.0]| 12.19047619047619|\n",
      "|2016-06-01|   Joseph Morrison|            3| 12|      78.0|[12.0,78.0]| 12.19047619047619|\n",
      "|2016-06-01|      Amelia Nolan|            3|  7|     104.0|[7.0,104.0]|3.0526315789473686|\n",
      "|2016-05-01| Andrea Rutherford|           36| 11|      21.0|[11.0,21.0]|27.936708860759495|\n",
      "|2016-06-01| Andrea Rutherford|           13| 12|      21.0|[12.0,21.0]|27.936708860759495|\n",
      "|2016-05-01|   Nicholas Gibson|            1|  5|     119.0|[5.0,119.0]|3.0526315789473686|\n",
      "|2016-05-01|       Karen Avery|           23| 11|      52.0|[11.0,52.0]| 7.053459119496855|\n",
      "|2016-06-01|       Karen Avery|            7| 12|      52.0|[12.0,52.0]| 7.053459119496855|\n",
      "|2016-05-01|        Sally Knox|            4| 10|      86.0|[10.0,86.0]| 12.19047619047619|\n",
      "|2016-06-01|        Sally Knox|            8| 11|      86.0|[11.0,86.0]| 12.19047619047619|\n",
      "|2016-05-01|   Theresa Vaughan|            1|  3|     123.0|[3.0,123.0]|3.0526315789473686|\n",
      "|2016-06-01|   Theresa Vaughan|            1|  4|     123.0|[4.0,123.0]|3.0526315789473686|\n",
      "|2016-05-01|      Charles Bell|            5|  9|      90.0| [9.0,90.0]|3.0526315789473686|\n",
      "|2016-06-01|      Charles Bell|            2| 10|      90.0|[10.0,90.0]|3.0526315789473686|\n",
      "|2016-05-01|  Connor Churchill|            9| 11|      64.0|[11.0,64.0]| 7.053459119496855|\n",
      "|2016-06-01|  Connor Churchill|           11| 12|      64.0|[12.0,64.0]| 7.053459119496855|\n",
      "|2016-05-01|    Sonia Marshall|            4| 11|      38.0|[11.0,38.0]| 12.19047619047619|\n",
      "|2016-06-01|    Sonia Marshall|            9| 12|      38.0|[12.0,38.0]| 12.19047619047619|\n",
      "|2016-05-01|        Lily Short|           16| 11|      69.0|[11.0,69.0]| 7.053459119496855|\n",
      "|2016-06-01|        Lily Short|           15| 12|      69.0|[12.0,69.0]| 7.053459119496855|\n",
      "|2016-05-01|       Gordon Reid|            2|  6|     106.0|[6.0,106.0]|3.0526315789473686|\n",
      "|2016-06-01|       Gordon Reid|            1|  7|     106.0|[7.0,106.0]|3.0526315789473686|\n",
      "|2016-05-01|     Leah Marshall|           13| 11|      26.0|[11.0,26.0]| 7.053459119496855|\n",
      "|2016-06-01|     Leah Marshall|            6| 12|      26.0|[12.0,26.0]| 7.053459119496855|\n",
      "|2016-05-01|     Lillian North|            2|  4|     116.0|[4.0,116.0]|3.0526315789473686|\n",
      "|2016-06-01|     Lillian North|            4|  5|     116.0|[5.0,116.0]|3.0526315789473686|\n",
      "|2016-05-01|     Wendy Ellison|           32| 12|       8.0| [12.0,8.0]|16.761904761904763|\n",
      "|2016-06-01|     Wendy Ellison|           17| 13|       8.0| [13.0,8.0]|16.761904761904763|\n",
      "|2016-05-01| Alexander Coleman|            4| 11|      63.0|[11.0,63.0]|27.936708860759495|\n",
      "|2016-06-01| Alexander Coleman|            3| 12|      63.0|[12.0,63.0]|27.936708860759495|\n",
      "|2016-05-01|       Boris Clark|            6|  4|     120.0|[4.0,120.0]|3.0526315789473686|\n",
      "|2016-06-01|       Boris Clark|            9|  5|     120.0|[5.0,120.0]|3.0526315789473686|\n",
      "|2016-06-01|     Carl Davidson|            1|  2|     147.0|[2.0,147.0]|3.0526315789473686|\n",
      "|2016-05-01|   Jessica Jackson|           13| 11|      50.0|[11.0,50.0]| 7.053459119496855|\n",
      "|2016-06-01|   Jessica Jackson|           20| 12|      50.0|[12.0,50.0]| 7.053459119496855|\n",
      "|2016-05-01|     Lillian James|           65| 11|      40.0|[11.0,40.0]|            54.125|\n",
      "|2016-06-01|     Lillian James|           93| 12|      40.0|[12.0,40.0]|            54.125|\n",
      "|2016-05-01|      Rachel Brown|           17| 12|      16.0|[12.0,16.0]| 12.19047619047619|\n",
      "|2016-06-01|      Rachel Brown|            9| 13|      16.0|[13.0,16.0]| 12.19047619047619|\n",
      "|2016-05-01|      Frank Murray|            1|  2|     138.0|[2.0,138.0]|3.0526315789473686|\n",
      "|2016-05-01|       Steven Bond|            1|  1|     142.0|[1.0,142.0]| 37.05714285714286|\n",
      "|2016-06-01|       Steven Bond|            3|  2|     142.0|[2.0,142.0]| 37.05714285714286|\n",
      "|2016-05-01|         Sam Allan|           18| 11|      17.0|[11.0,17.0]| 12.19047619047619|\n",
      "|2016-06-01|         Sam Allan|           23| 12|      17.0|[12.0,17.0]| 12.19047619047619|\n",
      "|2016-05-01|   Bernadette Rees|           22| 11|      30.0|[11.0,30.0]| 7.053459119496855|\n",
      "|2016-06-01|   Bernadette Rees|            3| 12|      30.0|[12.0,30.0]| 7.053459119496855|\n",
      "|2016-05-01|        Ryan Alsop|            8| 11|      49.0|[11.0,49.0]| 7.053459119496855|\n",
      "|2016-06-01|        Ryan Alsop|           10| 12|      49.0|[12.0,49.0]| 7.053459119496855|\n",
      "|2016-05-01|   Victor Hardacre|            2|  8|      95.0| [8.0,95.0]|3.0526315789473686|\n",
      "|2016-06-01|   Victor Hardacre|            6|  9|      95.0| [9.0,95.0]|3.0526315789473686|\n",
      "|2016-05-01|   Benjamin Wright|           25| 11|      28.0|[11.0,28.0]| 12.19047619047619|\n",
      "|2016-06-01|   Benjamin Wright|           34| 12|      28.0|[12.0,28.0]| 12.19047619047619|\n",
      "|2016-05-01|        Mary Vance|            2|  7|     101.0|[7.0,101.0]|3.0526315789473686|\n",
      "|2016-06-01|        Mary Vance|            3|  8|     101.0|[8.0,101.0]|3.0526315789473686|\n",
      "|2016-05-01|    Carol Buckland|           10| 10|      82.0|[10.0,82.0]| 12.19047619047619|\n",
      "|2016-06-01|    Carol Buckland|           15| 11|      82.0|[11.0,82.0]| 12.19047619047619|\n",
      "|2016-05-01|     David Ellison|            2|  1|     153.0|[1.0,153.0]| 37.05714285714286|\n",
      "|2016-05-01| Leonard Robertson|           14| 11|      60.0|[11.0,60.0]| 12.19047619047619|\n",
      "|2016-06-01| Leonard Robertson|            5| 12|      60.0|[12.0,60.0]| 12.19047619047619|\n",
      "|2016-05-01|   Trevor Lawrence|           65| 11|      58.0|[11.0,58.0]|            54.125|\n",
      "|2016-06-01|   Trevor Lawrence|           29| 12|      58.0|[12.0,58.0]|            54.125|\n",
      "|2016-05-01|     Zoe Underwood|           15|  4|     117.0|[4.0,117.0]| 7.053459119496855|\n",
      "|2016-06-01|     Zoe Underwood|           10|  5|     117.0|[5.0,117.0]| 7.053459119496855|\n",
      "|2016-05-01|       Alan Martin|           60| 11|      33.0|[11.0,33.0]|            54.125|\n",
      "|2016-06-01|       Alan Martin|           69| 12|      33.0|[12.0,33.0]|            54.125|\n",
      "|2016-05-01|   Andrew Johnston|            7| 11|      23.0|[11.0,23.0]| 7.053459119496855|\n",
      "|2016-06-01|   Andrew Johnston|           10| 12|      23.0|[12.0,23.0]| 7.053459119496855|\n",
      "|2016-05-01|   Sarah Mackenzie|            7| 11|      59.0|[11.0,59.0]| 7.053459119496855|\n",
      "|2016-06-01|   Sarah Mackenzie|            5| 12|      59.0|[12.0,59.0]| 7.053459119496855|\n",
      "|2016-05-01|     Faith Coleman|            2| 11|      35.0|[11.0,35.0]|3.0526315789473686|\n",
      "|2016-06-01|     Faith Coleman|            8| 12|      35.0|[12.0,35.0]|3.0526315789473686|\n",
      "|2016-05-01|    Anthony Bailey|           12|  8|      93.0| [8.0,93.0]| 12.19047619047619|\n",
      "|2016-06-01|    Anthony Bailey|            8|  9|      93.0| [9.0,93.0]| 12.19047619047619|\n",
      "|2016-05-01|     Mary Marshall|           10| 11|      39.0|[11.0,39.0]| 12.19047619047619|\n",
      "|2016-06-01|     Mary Marshall|           11| 12|      39.0|[12.0,39.0]| 12.19047619047619|\n",
      "|2016-05-01|   Alexander Clark|            4|  6|     115.0|[6.0,115.0]|3.0526315789473686|\n",
      "|2016-06-01|Sebastian Ferguson|            6|  1|     161.0|[1.0,161.0]| 37.05714285714286|\n",
      "|2016-05-01|       Audrey Dyer|           13| 12|       7.0| [12.0,7.0]| 12.19047619047619|\n",
      "|2016-06-01|       Audrey Dyer|           16| 13|       7.0| [13.0,7.0]| 12.19047619047619|\n",
      "|2016-06-01|    Felicity Allan|           16|  1|     172.0|[1.0,172.0]| 37.05714285714286|\n",
      "|2016-05-01|    Harry Springer|           32| 11|      44.0|[11.0,44.0]|16.761904761904763|\n",
      "|2016-06-01|    Harry Springer|           28| 12|      44.0|[12.0,44.0]|16.761904761904763|\n",
      "|2016-05-01|       Gordon King|           17| 11|      68.0|[11.0,68.0]| 12.19047619047619|\n",
      "|2016-06-01|       Gordon King|           43| 12|      68.0|[12.0,68.0]| 12.19047619047619|\n",
      "+----------+------------------+-------------+---+----------+-----------+------------------+\n",
      "only showing top 100 rows\n",
      "\n"
     ]
    }
   ],
   "source": [
    "transformed_dtk.show(100)"
   ]
  },
  {
   "cell_type": "code",
   "execution_count": 34,
   "metadata": {
    "collapsed": false,
    "deletable": true,
    "editable": true
   },
   "outputs": [
    {
     "data": {
      "text/plain": [
       "0.0768890555258217"
      ]
     },
     "execution_count": 34,
     "metadata": {},
     "output_type": "execute_result"
    }
   ],
   "source": [
    "rfd = RandomForestRegressor(numTrees=10, maxDepth=3,labelCol=\"count(Doctor)\", featuresCol=\"features\", maxBins=178)\n",
    "model_rfd = rfd.fit(training_doctor_df.select(\"count(Doctor)\", \"features\"))\n",
    "transformed_rfd = model_rfd.transform(testing_doctor_df)\n",
    "regev_rfd = RegressionEvaluator(labelCol=\"count(Doctor)\")\n",
    "regev_rfd.evaluate(transformed_rfd.select(\"count(Doctor)\", \"prediction\"), {regev_rfd.metricName: \"r2\"})\n",
    "#transformed_rfd.show(10)"
   ]
  },
  {
   "cell_type": "code",
   "execution_count": null,
   "metadata": {
    "collapsed": false,
    "deletable": true,
    "editable": true
   },
   "outputs": [],
   "source": [
    "grouped_specialty = reading_mod.groupby('Date', 'Specialty').agg({'Specialty': 'count'})\n",
    "grouped_specialty_with_date = grouped_specialty.withColumn('Date', change_to_date_func(col('Date')))\n",
    "window_row_specialty = Window().partitionBy('Specialty').orderBy('Date')\n",
    "grouped_specialty_with_date_new = grouped_specialty_with_date.withColumn('id', \n",
    "                                                                         row_number().over(window_row_specialty))\n",
    "strindexer = StringIndexer(inputCol=\"Specialty\", outputCol=\"Specialty_idx\")\n",
    "model_strindexer = strindexer.fit(grouped_specialty_with_date_new)\n",
    "grouped_specialty_with_date_new_indexed = model_strindexer.transform(grouped_specialty_with_date_new)\n",
    "assembler = VectorAssembler(inputCols=[\"id\", \"Specialty_idx\"], outputCol=\"features\")\n",
    "grouped_specialty_with_date_new_1 = assembler.transform(grouped_specialty_with_date_new_indexed)\n",
    "training_specialty_df = grouped_specialty_with_date_new_1\n",
    "testing_specialty_df = grouped_specialty_with_date_new_1.where(col('Date') > datetime(2016,4,2))\n",
    "lrs = LinearRegression(maxIter=1000, regParam=0.01, elasticNetParam=0.0, labelCol=\"count(Specialty)\", \n",
    "                       featuresCol=\"features\")\n",
    "model_lrs = lrs.fit(training_specialty_df.select(\"features\", \"count(Specialty)\"))\n",
    "transformed_lrs = model_lrs.transform(testing_specialty_df)\n",
    "regev_s = RegressionEvaluator(labelCol=\"count(Specialty)\")\n",
    "regev_s.evaluate(transformed_lrs.select(\"count(Specialty)\", \"prediction\"), {regev_s.metricName: \"mae\"})"
   ]
  },
  {
   "cell_type": "code",
   "execution_count": null,
   "metadata": {
    "collapsed": true,
    "deletable": true,
    "editable": true
   },
   "outputs": [],
   "source": [
    "transformed_lrs.show(100)"
   ]
  },
  {
   "cell_type": "code",
   "execution_count": null,
   "metadata": {
    "collapsed": false,
    "deletable": true,
    "editable": true
   },
   "outputs": [],
   "source": [
    "isos = IsotonicRegression(labelCol=\"count(Specialty)\", featuresCol=\"features\")\n",
    "model_isos = isos.fit(training_specialty_df.select(\"features\", \"count(Specialty)\"))\n",
    "transformed_isos = model_isos.transform(testing_specialty_df)\n",
    "regev_s = RegressionEvaluator(labelCol=\"count(Specialty)\")\n",
    "regev_s.evaluate(transformed_isos.select(\"count(Specialty)\", \"prediction\"), {regev_s.metricName: \"mae\"})"
   ]
  },
  {
   "cell_type": "code",
   "execution_count": null,
   "metadata": {
    "collapsed": true,
    "deletable": true,
    "editable": true
   },
   "outputs": [],
   "source": [
    "transformed_isos.show(100)"
   ]
  },
  {
   "cell_type": "code",
   "execution_count": null,
   "metadata": {
    "collapsed": false,
    "deletable": true,
    "editable": true
   },
   "outputs": [],
   "source": [
    "dts = DecisionTreeRegressor(maxDepth=3, labelCol=\"count(Specialty)\", featuresCol=\"features\")\n",
    "model_dts = dts.fit(training_specialty_df.select('count(Specialty)', 'features'))\n",
    "transformed_dts = model_dts.transform(testing_specialty_df)\n",
    "regev_dts = RegressionEvaluator(labelCol=\"count(Specialty)\")\n",
    "regev_dts.evaluate(transformed_dts.select(\"count(Specialty)\", \"prediction\"), {regev_dts.metricName: \"mae\"})"
   ]
  },
  {
   "cell_type": "code",
   "execution_count": null,
   "metadata": {
    "collapsed": false,
    "deletable": true,
    "editable": true
   },
   "outputs": [],
   "source": [
    "transformed_dts.show(100)"
   ]
  },
  {
   "cell_type": "code",
   "execution_count": null,
   "metadata": {
    "collapsed": false,
    "deletable": true,
    "editable": true
   },
   "outputs": [],
   "source": [
    "grouped_hospital = reading_mod.groupby('Date', 'Hospital').agg({'Hospital': 'count'})\n",
    "grouped_hospital_with_date = grouped_hospital.withColumn('Date', change_to_date_func(col('Date')))\n",
    "window_row_hospital = Window().partitionBy('Hospital').orderBy('Date')\n",
    "grouped_hospital_with_date_new = grouped_hospital_with_date.withColumn('id', \n",
    "                                                                         row_number().over(window_row_hospital))\n",
    "strindexer = StringIndexer(inputCol=\"Hospital\", outputCol=\"Hospital_idx\")\n",
    "model_strindexer = strindexer.fit(grouped_hospital_with_date_new)\n",
    "grouped_hospital_with_date_new_indexed = model_strindexer.transform(grouped_hospital_with_date_new)\n",
    "assembler = VectorAssembler(inputCols=[\"id\", \"Hospital_idx\"], outputCol=\"features\")\n",
    "grouped_hospital_with_date_new_1 = assembler.transform(grouped_hospital_with_date_new_indexed)\n",
    "training_hospital_df = grouped_hospital_with_date_new_1\n",
    "testing_hospital_df = grouped_hospital_with_date_new_1.where(col('Date') > datetime(2016,4,2))\n",
    "lrh = LinearRegression(maxIter=1000, regParam=0.0, elasticNetParam=1.0, labelCol=\"count(Hospital)\", \n",
    "                       featuresCol=\"features\")\n",
    "model_lrh = lrh.fit(training_hospital_df.select(\"features\", \"count(Hospital)\"))\n",
    "transformed_lrh = model_lrh.transform(testing_hospital_df)\n",
    "regev_h = RegressionEvaluator(labelCol=\"count(Hospital)\")\n",
    "regev_h.evaluate(transformed_lrh.select(\"count(Hospital)\", \"prediction\"), {regev_s.metricName: \"mae\"})"
   ]
  },
  {
   "cell_type": "code",
   "execution_count": null,
   "metadata": {
    "collapsed": false,
    "deletable": true,
    "editable": true
   },
   "outputs": [],
   "source": [
    "transformed_lrh.show(100)"
   ]
  },
  {
   "cell_type": "code",
   "execution_count": null,
   "metadata": {
    "collapsed": false,
    "deletable": true,
    "editable": true
   },
   "outputs": [],
   "source": [
    "isoh = IsotonicRegression(labelCol=\"count(Hospital)\", featuresCol=\"features\")\n",
    "model_isoh = isoh.fit(training_hospital_df.select(\"features\", \"count(Hospital)\"))\n",
    "transformed_isoh = model_isoh.transform(testing_hospital_df)\n",
    "regev_h = RegressionEvaluator(labelCol=\"count(Hospital)\")\n",
    "regev_h.evaluate(transformed_isoh.select(\"count(Hospital)\", \"prediction\"), {regev_s.metricName: \"mae\"})"
   ]
  },
  {
   "cell_type": "code",
   "execution_count": null,
   "metadata": {
    "collapsed": false,
    "deletable": true,
    "editable": true
   },
   "outputs": [],
   "source": [
    "transformed_isoh.show(100)"
   ]
  },
  {
   "cell_type": "code",
   "execution_count": null,
   "metadata": {
    "collapsed": false,
    "deletable": true,
    "editable": true
   },
   "outputs": [],
   "source": [
    "dth = DecisionTreeRegressor(maxDepth=3, labelCol=\"count(Hospital)\", featuresCol=\"features\")\n",
    "model_dth = dth.fit(training_hospital_df.select('count(Hospital)', 'features'))\n",
    "transformed_dth = model_dth.transform(testing_hospital_df)\n",
    "regev_dth = RegressionEvaluator(labelCol=\"count(Hospital)\")\n",
    "regev_dth.evaluate(transformed_dth.select(\"count(Hospital)\", \"prediction\"), {regev_dth.metricName: \"mae\"})"
   ]
  },
  {
   "cell_type": "code",
   "execution_count": null,
   "metadata": {
    "collapsed": false,
    "deletable": true,
    "editable": true
   },
   "outputs": [],
   "source": [
    "transformed_dth.show(100)"
   ]
  },
  {
   "cell_type": "code",
   "execution_count": null,
   "metadata": {
    "collapsed": true,
    "deletable": true,
    "editable": true
   },
   "outputs": [],
   "source": []
  },
  {
   "cell_type": "code",
   "execution_count": 44,
   "metadata": {
    "collapsed": false,
    "deletable": true,
    "editable": true
   },
   "outputs": [
    {
     "data": {
      "text/plain": [
       "3.5804591435590853"
      ]
     },
     "execution_count": 44,
     "metadata": {},
     "output_type": "execute_result"
    }
   ],
   "source": [
    "grouped_proc = reading_mod.groupby('Date', 'Procedure').agg({'Procedure': 'count'})\n",
    "grouped_proc_with_date = grouped_proc.withColumn('Date', change_to_date_func(col('Date')))\n",
    "window_row_proc = Window().partitionBy('Procedure').orderBy('Date')\n",
    "grouped_proc_with_date_new = grouped_proc_with_date.withColumn('id', row_number().over(window_row_proc))\n",
    "strindexer = StringIndexer(inputCol=\"Procedure\", outputCol=\"Procedure_idx\")\n",
    "model_strindexer = strindexer.fit(grouped_proc_with_date_new)\n",
    "grouped_proc_with_date_new_indexed = model_strindexer.transform(grouped_proc_with_date_new)\n",
    "assembler = VectorAssembler(inputCols=[\"id\", \"Procedure_idx\"], outputCol=\"features\")\n",
    "grouped_proc_with_date_new_1 = assembler.transform(grouped_proc_with_date_new_indexed)\n",
    "training_proc_df = grouped_proc_with_date_new_1\n",
    "testing_proc_df = grouped_proc_with_date_new_1.where(col('Date') > datetime(2016,4,2))\n",
    "dtproc = DecisionTreeRegressor(maxDepth=5, labelCol=\"count(Procedure)\", featuresCol=\"features\", maxBins=128)\n",
    "model_dtproc = dtproc.fit(training_proc_df.select('count(Procedure)', 'features'))\n",
    "transformed_dtproc = model_dtproc.transform(testing_proc_df)\n",
    "regev_dtproc = RegressionEvaluator(labelCol=\"count(Procedure)\")\n",
    "regev_dtproc.evaluate(transformed_dtproc.select(\"count(Procedure)\", \"prediction\"), {regev_dtproc.metricName: \"mae\"})"
   ]
  },
  {
   "cell_type": "code",
   "execution_count": 45,
   "metadata": {
    "collapsed": false,
    "deletable": true,
    "editable": true
   },
   "outputs": [
    {
     "name": "stdout",
     "output_type": "stream",
     "text": [
      "+----------+--------------------+----------------+---+-------------+-----------+------------------+\n",
      "|      Date|           Procedure|count(Procedure)| id|Procedure_idx|   features|        prediction|\n",
      "+----------+--------------------+----------------+---+-------------+-----------+------------------+\n",
      "|2016-05-01|Aortic Valve Surgery|               7| 11|         33.0|[11.0,33.0]|10.244444444444444|\n",
      "|2016-06-01|Aortic Valve Surgery|               4| 12|         33.0|[12.0,33.0]|10.244444444444444|\n",
      "|2016-05-01|Clipping Cerebral...|               8| 11|         52.0|[11.0,52.0]|10.244444444444444|\n",
      "|2016-06-01|Clipping Cerebral...|               7| 12|         52.0|[12.0,52.0]|10.244444444444444|\n",
      "|2016-05-01|   Other Orthopaedic|              14| 11|         72.0|[11.0,72.0]|20.517241379310345|\n",
      "|2016-06-01|   Other Orthopaedic|              14| 12|         72.0|[12.0,72.0]|20.517241379310345|\n",
      "|2016-05-01|    Ovary Operations|              10| 11|         34.0|[11.0,34.0]|10.244444444444444|\n",
      "|2016-06-01|    Ovary Operations|              12| 12|         34.0|[12.0,34.0]|10.244444444444444|\n",
      "|2016-05-01|        Hysterectomy|              52| 11|         66.0|[11.0,66.0]|              51.7|\n",
      "|2016-06-01|        Hysterectomy|              41| 12|         66.0|[12.0,66.0]|              51.7|\n",
      "+----------+--------------------+----------------+---+-------------+-----------+------------------+\n",
      "only showing top 10 rows\n",
      "\n"
     ]
    }
   ],
   "source": [
    "transformed_dtproc.show(10)"
   ]
  },
  {
   "cell_type": "code",
   "execution_count": 33,
   "metadata": {
    "collapsed": false,
    "deletable": true,
    "editable": true
   },
   "outputs": [
    {
     "data": {
      "text/plain": [
       "0.7193436290584654"
      ]
     },
     "execution_count": 33,
     "metadata": {},
     "output_type": "execute_result"
    }
   ],
   "source": [
    "grouped_pr = reading_mod.groupby('Date', 'Priority').agg({'Priority': 'count'})\n",
    "grouped_pr_with_date = grouped_pr.withColumn('Date', change_to_date_func(col('Date')))\n",
    "window_row_pr = Window().partitionBy('Priority').orderBy('Date')\n",
    "grouped_pr_with_date_new = grouped_pr_with_date.withColumn('id', row_number().over(window_row_pr))\n",
    "strindexer = StringIndexer(inputCol=\"Priority\", outputCol=\"Priority_idx\")\n",
    "model_strindexer = strindexer.fit(grouped_pr_with_date_new)\n",
    "grouped_pr_with_date_new_indexed = model_strindexer.transform(grouped_pr_with_date_new)\n",
    "assembler = VectorAssembler(inputCols=[\"id\", \"Priority_idx\"], outputCol=\"features\")\n",
    "grouped_pr_with_date_new_1 = assembler.transform(grouped_pr_with_date_new_indexed)\n",
    "training_pr_df = grouped_pr_with_date_new_1\n",
    "testing_pr_df = grouped_pr_with_date_new_1.where(col('Date') > datetime(2016,4,2))\n",
    "dtpr = DecisionTreeRegressor(maxDepth=3, labelCol=\"count(Priority)\", featuresCol=\"features\")\n",
    "model_dtpr = dtpr.fit(training_pr_df.select('count(Priority)', 'features'))\n",
    "transformed_dtpr = model_dtpr.transform(testing_pr_df)\n",
    "regev_dtpr = RegressionEvaluator(labelCol=\"count(Priority)\")\n",
    "regev_dtpr.evaluate(transformed_dtpr.select(\"count(Priority)\", \"prediction\"), {regev_dtpr.metricName: \"r2\"})"
   ]
  },
  {
   "cell_type": "code",
   "execution_count": 32,
   "metadata": {
    "collapsed": false,
    "deletable": true,
    "editable": true
   },
   "outputs": [
    {
     "name": "stdout",
     "output_type": "stream",
     "text": [
      "+----------+--------+---------------+---+------------+----------+-----------------+\n",
      "|      Date|Priority|count(Priority)| id|Priority_idx|  features|       prediction|\n",
      "+----------+--------+---------------+---+------------+----------+-----------------+\n",
      "|2016-05-01|       B|            872| 12|         1.0|[12.0,1.0]|832.6666666666666|\n",
      "|2016-06-01|       B|            883| 13|         1.0|[13.0,1.0]|832.6666666666666|\n",
      "|2016-05-01|       C|            732| 12|         2.0|[12.0,2.0]|            586.0|\n",
      "|2016-06-01|       C|            621| 13|         2.0|[13.0,2.0]|            586.0|\n",
      "|2016-05-01|       A|            596| 12|         0.0|[12.0,0.0]|            586.0|\n",
      "|2016-06-01|       A|            502| 13|         0.0|[13.0,0.0]|            586.0|\n",
      "+----------+--------+---------------+---+------------+----------+-----------------+\n",
      "\n"
     ]
    }
   ],
   "source": [
    "transformed_dtpr.show(100)"
   ]
  },
  {
   "cell_type": "code",
   "execution_count": null,
   "metadata": {
    "collapsed": true,
    "deletable": true,
    "editable": true
   },
   "outputs": [],
   "source": []
  }
 ],
 "metadata": {
  "kernelspec": {
   "display_name": "Python 2",
   "language": "python",
   "name": "python2"
  },
  "language_info": {
   "codemirror_mode": {
    "name": "ipython",
    "version": 2
   },
   "file_extension": ".py",
   "mimetype": "text/x-python",
   "name": "python",
   "nbconvert_exporter": "python",
   "pygments_lexer": "ipython2",
   "version": "2.7.12"
  }
 },
 "nbformat": 4,
 "nbformat_minor": 0
}
